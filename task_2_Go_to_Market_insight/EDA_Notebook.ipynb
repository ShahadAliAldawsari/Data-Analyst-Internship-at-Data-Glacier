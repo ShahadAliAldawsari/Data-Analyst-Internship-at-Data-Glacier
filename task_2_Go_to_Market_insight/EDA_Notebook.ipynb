{
 "cells": [
  {
   "cell_type": "markdown",
   "id": "e724c885",
   "metadata": {},
   "source": [
    "**The Client:**\n",
    "XYZ is a private firm in US. Due to remarkable growth in the Cab Industry in last few years and multiple key players in the market, it is planning for an investment in Cab industry and as per their Go-to-Market(G2M) strategy they want to understand the market before taking final decision.\n",
    "\n",
    "**Project delivery:**\n",
    "You have been provided with multiple data sets that contains information on 2 cab companies. Each file (data set) provided represents different aspects of the customer profile. XYZ is interested in using your actionable insights to help them identify the right company to make their investment.\n",
    "The outcome of your delivery will be a presentation to XYZ’s Executive team. This presentation will be judged based on the visuals provided, the quality of your analysis and the value of your recommendations and insights. \n",
    "\n",
    "**Data Set:**\n",
    "You have been provided 4 individual data sets. Time period of data is from 31/01/2016 to 31/12/2018.\n",
    "Below are the list of datasets which are provided for the analysis:\n",
    "- Cab_Data.csv – this file includes details of transaction for 2 cab companies\n",
    "- Customer_ID.csv – this is a mapping table that contains a unique identifier which links the customer’s demographic details\n",
    "- Transaction_ID.csv – this is a mapping table that contains transaction to customer mapping and payment mode\n",
    "- City.csv – this file contains list of US cities, their population and number of cab users\n",
    "\n",
    "**You should fully investigate and understand each data set:**\n",
    "Review the Source Documentation\n",
    "Understand the field names and data types\n",
    "Identify relationships across the files\n",
    "Field/feature transformations\n",
    "Determine which files should be joined versus which ones should be appended\n",
    "Create master data and explain the relationship\n",
    "Identify and remove duplicates\n",
    "Perform other analysis like NA value and outlier detection\n",
    " \n",
    "\n",
    "Whatever and how many slides you prepare(Be creative and come up with meaningful insight):\n",
    "\n",
    "The idea is to create a hypothesis, engage with the data, think critically, and use various analytical approaches to produce unique insights.\n",
    "\n",
    "You are not limited to only utilizing the data you have been provided.\n",
    "\n",
    "We encourage you to find third party data sets which correspond to the overall theme and geographical properties of the data provided.  For Example: you can leverage US holiday data/ weather data\n",
    "\n",
    "Also, do research on overall cab industry in US and try to relate that with the trend in data\n",
    "\n",
    "Analysis\n",
    "\n",
    "Create multiple hypothesis and investigate:\n",
    "\n",
    "You will need to generate 5-7 hypothesis initially to investigate as some will not prove what you are expecting.\n",
    "\n",
    "For Example: “Is there any seasonality in number of customers using the cab service?”\n",
    "\n",
    "Areas to investigate:\n",
    "\n",
    "Which company has maximum cab users at a particular time period?\n",
    "Does margin proportionally increase with increase in number of customers?\n",
    "What are the attributes of these customer segments?\n",
    "Although not required, we encourage you to document the process and findings\n",
    "\n",
    "What is the business problem?\n",
    "What are the properties of the data provided (data intake report)\n",
    "What steps did you take in order to create an applicable data set?\n",
    "How did you prepare and perform your analysis?\n",
    "What type of analysis did you perform?\n",
    "Why did you choose to use certain analytical techniques over others?\n",
    "What were the results?\n",
    "Prepare a presentation that summarizes your analysis and recommendations and identify which company is performing better and is a better investment opportunity for XYZ.\n",
    "\n",
    "Deliverables of Week 2 are:\n",
    "\n",
    "1. EDA Notebook (ipynb file)\n",
    "\n",
    "2. Data Intake report (pdf file)\n",
    "\n",
    "3. EDA recommendation and hypothesis results ( It should be in the ipynb notebook and you don't need not to present separate document) \n",
    "\n",
    "You can use either EDA or Modeling and EDA both to deliver the result.\n",
    "\n",
    "Remember, there are no wrong answers as long as the data supports them.\n",
    "\n",
    "Note: Sample presentation of previous batch intern, for your reference is added"
   ]
  },
  {
   "cell_type": "markdown",
   "id": "0c0de72e",
   "metadata": {},
   "source": [
    "## Importing Libraries"
   ]
  },
  {
   "cell_type": "code",
   "execution_count": 29,
   "id": "ed99f997",
   "metadata": {},
   "outputs": [],
   "source": [
    "import numpy as np\n",
    "import pandas as pd\n",
    "import matplotlib as plt\n",
    "import matplotlib.pyplot as plt\n",
    "import seaborn as sns\n",
    "\n",
    "import warnings\n",
    "warnings.filterwarnings('ignore')\n",
    "\n",
    "%matplotlib inline\n",
    "plt.rcParams['figure.figsize']=(10,6)\n",
    "\n"
   ]
  },
  {
   "cell_type": "markdown",
   "id": "d0a127c5",
   "metadata": {},
   "source": [
    "## Reading Datasets"
   ]
  },
  {
   "cell_type": "code",
   "execution_count": 30,
   "id": "600b4cbf",
   "metadata": {},
   "outputs": [
    {
     "data": {
      "text/html": [
       "<div>\n",
       "<style scoped>\n",
       "    .dataframe tbody tr th:only-of-type {\n",
       "        vertical-align: middle;\n",
       "    }\n",
       "\n",
       "    .dataframe tbody tr th {\n",
       "        vertical-align: top;\n",
       "    }\n",
       "\n",
       "    .dataframe thead th {\n",
       "        text-align: right;\n",
       "    }\n",
       "</style>\n",
       "<table border=\"1\" class=\"dataframe\">\n",
       "  <thead>\n",
       "    <tr style=\"text-align: right;\">\n",
       "      <th></th>\n",
       "      <th>Date of Travel</th>\n",
       "      <th>Company</th>\n",
       "      <th>City</th>\n",
       "      <th>KM Travelled</th>\n",
       "      <th>Price Charged</th>\n",
       "      <th>Cost of Trip</th>\n",
       "    </tr>\n",
       "    <tr>\n",
       "      <th>Transaction ID</th>\n",
       "      <th></th>\n",
       "      <th></th>\n",
       "      <th></th>\n",
       "      <th></th>\n",
       "      <th></th>\n",
       "      <th></th>\n",
       "    </tr>\n",
       "  </thead>\n",
       "  <tbody>\n",
       "    <tr>\n",
       "      <th>10000011</th>\n",
       "      <td>42377</td>\n",
       "      <td>Pink Cab</td>\n",
       "      <td>ATLANTA GA</td>\n",
       "      <td>30.45</td>\n",
       "      <td>370.95</td>\n",
       "      <td>313.635</td>\n",
       "    </tr>\n",
       "    <tr>\n",
       "      <th>10000012</th>\n",
       "      <td>42375</td>\n",
       "      <td>Pink Cab</td>\n",
       "      <td>ATLANTA GA</td>\n",
       "      <td>28.62</td>\n",
       "      <td>358.52</td>\n",
       "      <td>334.854</td>\n",
       "    </tr>\n",
       "    <tr>\n",
       "      <th>10000013</th>\n",
       "      <td>42371</td>\n",
       "      <td>Pink Cab</td>\n",
       "      <td>ATLANTA GA</td>\n",
       "      <td>9.04</td>\n",
       "      <td>125.20</td>\n",
       "      <td>97.632</td>\n",
       "    </tr>\n",
       "    <tr>\n",
       "      <th>10000014</th>\n",
       "      <td>42376</td>\n",
       "      <td>Pink Cab</td>\n",
       "      <td>ATLANTA GA</td>\n",
       "      <td>33.17</td>\n",
       "      <td>377.40</td>\n",
       "      <td>351.602</td>\n",
       "    </tr>\n",
       "    <tr>\n",
       "      <th>10000015</th>\n",
       "      <td>42372</td>\n",
       "      <td>Pink Cab</td>\n",
       "      <td>ATLANTA GA</td>\n",
       "      <td>8.73</td>\n",
       "      <td>114.62</td>\n",
       "      <td>97.776</td>\n",
       "    </tr>\n",
       "  </tbody>\n",
       "</table>\n",
       "</div>"
      ],
      "text/plain": [
       "                Date of Travel   Company        City  KM Travelled  \\\n",
       "Transaction ID                                                       \n",
       "10000011                 42377  Pink Cab  ATLANTA GA         30.45   \n",
       "10000012                 42375  Pink Cab  ATLANTA GA         28.62   \n",
       "10000013                 42371  Pink Cab  ATLANTA GA          9.04   \n",
       "10000014                 42376  Pink Cab  ATLANTA GA         33.17   \n",
       "10000015                 42372  Pink Cab  ATLANTA GA          8.73   \n",
       "\n",
       "                Price Charged  Cost of Trip  \n",
       "Transaction ID                               \n",
       "10000011               370.95       313.635  \n",
       "10000012               358.52       334.854  \n",
       "10000013               125.20        97.632  \n",
       "10000014               377.40       351.602  \n",
       "10000015               114.62        97.776  "
      ]
     },
     "execution_count": 30,
     "metadata": {},
     "output_type": "execute_result"
    }
   ],
   "source": [
    "Cab_Data_url='https://raw.githubusercontent.com/DataGlacier/DataSets/main/Cab_Data.csv'\n",
    "Cab_Data=pd.read_csv(Cab_Data_url, index_col=0)\n",
    "Cab_Data.head()\n",
    "\n"
   ]
  },
  {
   "cell_type": "code",
   "execution_count": 31,
   "id": "3eb53d84",
   "metadata": {},
   "outputs": [
    {
     "data": {
      "text/plain": [
       "(359392, 6)"
      ]
     },
     "execution_count": 31,
     "metadata": {},
     "output_type": "execute_result"
    }
   ],
   "source": [
    "Cab_Data.shape"
   ]
  },
  {
   "cell_type": "code",
   "execution_count": 32,
   "id": "f9987548",
   "metadata": {},
   "outputs": [
    {
     "data": {
      "text/html": [
       "<div>\n",
       "<style scoped>\n",
       "    .dataframe tbody tr th:only-of-type {\n",
       "        vertical-align: middle;\n",
       "    }\n",
       "\n",
       "    .dataframe tbody tr th {\n",
       "        vertical-align: top;\n",
       "    }\n",
       "\n",
       "    .dataframe thead th {\n",
       "        text-align: right;\n",
       "    }\n",
       "</style>\n",
       "<table border=\"1\" class=\"dataframe\">\n",
       "  <thead>\n",
       "    <tr style=\"text-align: right;\">\n",
       "      <th></th>\n",
       "      <th>Population</th>\n",
       "      <th>Users</th>\n",
       "    </tr>\n",
       "    <tr>\n",
       "      <th>City</th>\n",
       "      <th></th>\n",
       "      <th></th>\n",
       "    </tr>\n",
       "  </thead>\n",
       "  <tbody>\n",
       "    <tr>\n",
       "      <th>NEW YORK NY</th>\n",
       "      <td>8,405,837</td>\n",
       "      <td>302,149</td>\n",
       "    </tr>\n",
       "    <tr>\n",
       "      <th>CHICAGO IL</th>\n",
       "      <td>1,955,130</td>\n",
       "      <td>164,468</td>\n",
       "    </tr>\n",
       "    <tr>\n",
       "      <th>LOS ANGELES CA</th>\n",
       "      <td>1,595,037</td>\n",
       "      <td>144,132</td>\n",
       "    </tr>\n",
       "    <tr>\n",
       "      <th>MIAMI FL</th>\n",
       "      <td>1,339,155</td>\n",
       "      <td>17,675</td>\n",
       "    </tr>\n",
       "    <tr>\n",
       "      <th>SILICON VALLEY</th>\n",
       "      <td>1,177,609</td>\n",
       "      <td>27,247</td>\n",
       "    </tr>\n",
       "  </tbody>\n",
       "</table>\n",
       "</div>"
      ],
      "text/plain": [
       "                 Population      Users\n",
       "City                                  \n",
       "NEW YORK NY      8,405,837    302,149 \n",
       "CHICAGO IL       1,955,130    164,468 \n",
       "LOS ANGELES CA   1,595,037    144,132 \n",
       "MIAMI FL         1,339,155     17,675 \n",
       "SILICON VALLEY   1,177,609     27,247 "
      ]
     },
     "execution_count": 32,
     "metadata": {},
     "output_type": "execute_result"
    }
   ],
   "source": [
    "City_url='https://raw.githubusercontent.com/DataGlacier/DataSets/main/City.csv'\n",
    "City=pd.read_csv(City_url, index_col=0)\n",
    "City.head()\n"
   ]
  },
  {
   "cell_type": "code",
   "execution_count": 33,
   "id": "426475b6",
   "metadata": {},
   "outputs": [
    {
     "data": {
      "text/plain": [
       "(20, 2)"
      ]
     },
     "execution_count": 33,
     "metadata": {},
     "output_type": "execute_result"
    }
   ],
   "source": [
    "City.shape"
   ]
  },
  {
   "cell_type": "code",
   "execution_count": 34,
   "id": "82f7075b",
   "metadata": {},
   "outputs": [
    {
     "data": {
      "text/html": [
       "<div>\n",
       "<style scoped>\n",
       "    .dataframe tbody tr th:only-of-type {\n",
       "        vertical-align: middle;\n",
       "    }\n",
       "\n",
       "    .dataframe tbody tr th {\n",
       "        vertical-align: top;\n",
       "    }\n",
       "\n",
       "    .dataframe thead th {\n",
       "        text-align: right;\n",
       "    }\n",
       "</style>\n",
       "<table border=\"1\" class=\"dataframe\">\n",
       "  <thead>\n",
       "    <tr style=\"text-align: right;\">\n",
       "      <th></th>\n",
       "      <th>Gender</th>\n",
       "      <th>Age</th>\n",
       "      <th>Income (USD/Month)</th>\n",
       "    </tr>\n",
       "    <tr>\n",
       "      <th>Customer ID</th>\n",
       "      <th></th>\n",
       "      <th></th>\n",
       "      <th></th>\n",
       "    </tr>\n",
       "  </thead>\n",
       "  <tbody>\n",
       "    <tr>\n",
       "      <th>29290</th>\n",
       "      <td>Male</td>\n",
       "      <td>28</td>\n",
       "      <td>10813</td>\n",
       "    </tr>\n",
       "    <tr>\n",
       "      <th>27703</th>\n",
       "      <td>Male</td>\n",
       "      <td>27</td>\n",
       "      <td>9237</td>\n",
       "    </tr>\n",
       "    <tr>\n",
       "      <th>28712</th>\n",
       "      <td>Male</td>\n",
       "      <td>53</td>\n",
       "      <td>11242</td>\n",
       "    </tr>\n",
       "    <tr>\n",
       "      <th>28020</th>\n",
       "      <td>Male</td>\n",
       "      <td>23</td>\n",
       "      <td>23327</td>\n",
       "    </tr>\n",
       "    <tr>\n",
       "      <th>27182</th>\n",
       "      <td>Male</td>\n",
       "      <td>33</td>\n",
       "      <td>8536</td>\n",
       "    </tr>\n",
       "  </tbody>\n",
       "</table>\n",
       "</div>"
      ],
      "text/plain": [
       "            Gender  Age  Income (USD/Month)\n",
       "Customer ID                                \n",
       "29290         Male   28               10813\n",
       "27703         Male   27                9237\n",
       "28712         Male   53               11242\n",
       "28020         Male   23               23327\n",
       "27182         Male   33                8536"
      ]
     },
     "execution_count": 34,
     "metadata": {},
     "output_type": "execute_result"
    }
   ],
   "source": [
    "Customer_ID_url='https://raw.githubusercontent.com/DataGlacier/DataSets/main/Customer_ID.csv'\n",
    "Customer_ID=pd.read_csv(Customer_ID_url, index_col=0)\n",
    "Customer_ID.head()\n"
   ]
  },
  {
   "cell_type": "code",
   "execution_count": 35,
   "id": "90ecba0c",
   "metadata": {},
   "outputs": [
    {
     "data": {
      "text/plain": [
       "(49171, 3)"
      ]
     },
     "execution_count": 35,
     "metadata": {},
     "output_type": "execute_result"
    }
   ],
   "source": [
    "Customer_ID.shape"
   ]
  },
  {
   "cell_type": "code",
   "execution_count": 36,
   "id": "42f86f24",
   "metadata": {},
   "outputs": [
    {
     "data": {
      "text/html": [
       "<div>\n",
       "<style scoped>\n",
       "    .dataframe tbody tr th:only-of-type {\n",
       "        vertical-align: middle;\n",
       "    }\n",
       "\n",
       "    .dataframe tbody tr th {\n",
       "        vertical-align: top;\n",
       "    }\n",
       "\n",
       "    .dataframe thead th {\n",
       "        text-align: right;\n",
       "    }\n",
       "</style>\n",
       "<table border=\"1\" class=\"dataframe\">\n",
       "  <thead>\n",
       "    <tr style=\"text-align: right;\">\n",
       "      <th></th>\n",
       "      <th>Customer ID</th>\n",
       "      <th>Payment_Mode</th>\n",
       "    </tr>\n",
       "    <tr>\n",
       "      <th>Transaction ID</th>\n",
       "      <th></th>\n",
       "      <th></th>\n",
       "    </tr>\n",
       "  </thead>\n",
       "  <tbody>\n",
       "    <tr>\n",
       "      <th>10000011</th>\n",
       "      <td>29290</td>\n",
       "      <td>Card</td>\n",
       "    </tr>\n",
       "    <tr>\n",
       "      <th>10000012</th>\n",
       "      <td>27703</td>\n",
       "      <td>Card</td>\n",
       "    </tr>\n",
       "    <tr>\n",
       "      <th>10000013</th>\n",
       "      <td>28712</td>\n",
       "      <td>Cash</td>\n",
       "    </tr>\n",
       "    <tr>\n",
       "      <th>10000014</th>\n",
       "      <td>28020</td>\n",
       "      <td>Cash</td>\n",
       "    </tr>\n",
       "    <tr>\n",
       "      <th>10000015</th>\n",
       "      <td>27182</td>\n",
       "      <td>Card</td>\n",
       "    </tr>\n",
       "  </tbody>\n",
       "</table>\n",
       "</div>"
      ],
      "text/plain": [
       "                Customer ID Payment_Mode\n",
       "Transaction ID                          \n",
       "10000011              29290         Card\n",
       "10000012              27703         Card\n",
       "10000013              28712         Cash\n",
       "10000014              28020         Cash\n",
       "10000015              27182         Card"
      ]
     },
     "execution_count": 36,
     "metadata": {},
     "output_type": "execute_result"
    }
   ],
   "source": [
    "Transaction_ID_url='https://raw.githubusercontent.com/DataGlacier/DataSets/main/Transaction_ID.csv'\n",
    "Transaction_ID=pd.read_csv(Transaction_ID_url, index_col=0)\n",
    "Transaction_ID.head()\n"
   ]
  },
  {
   "cell_type": "code",
   "execution_count": 37,
   "id": "20b175b2",
   "metadata": {},
   "outputs": [
    {
     "data": {
      "text/plain": [
       "(440098, 2)"
      ]
     },
     "execution_count": 37,
     "metadata": {},
     "output_type": "execute_result"
    }
   ],
   "source": [
    "Transaction_ID.shape"
   ]
  },
  {
   "cell_type": "markdown",
   "id": "48f99ed9",
   "metadata": {},
   "source": [
    "## Merging Datasets"
   ]
  },
  {
   "cell_type": "markdown",
   "id": "1eed9b67",
   "metadata": {},
   "source": [
    "**1st** Merge Cab_Data with Transaction_ID based on 'Transaction ID' column"
   ]
  },
  {
   "cell_type": "code",
   "execution_count": 38,
   "id": "a76a6a1c",
   "metadata": {},
   "outputs": [
    {
     "data": {
      "text/html": [
       "<div>\n",
       "<style scoped>\n",
       "    .dataframe tbody tr th:only-of-type {\n",
       "        vertical-align: middle;\n",
       "    }\n",
       "\n",
       "    .dataframe tbody tr th {\n",
       "        vertical-align: top;\n",
       "    }\n",
       "\n",
       "    .dataframe thead th {\n",
       "        text-align: right;\n",
       "    }\n",
       "</style>\n",
       "<table border=\"1\" class=\"dataframe\">\n",
       "  <thead>\n",
       "    <tr style=\"text-align: right;\">\n",
       "      <th></th>\n",
       "      <th>Transaction ID</th>\n",
       "      <th>Customer ID</th>\n",
       "      <th>Payment_Mode</th>\n",
       "    </tr>\n",
       "  </thead>\n",
       "  <tbody>\n",
       "    <tr>\n",
       "      <th>0</th>\n",
       "      <td>10000011</td>\n",
       "      <td>29290</td>\n",
       "      <td>Card</td>\n",
       "    </tr>\n",
       "    <tr>\n",
       "      <th>1</th>\n",
       "      <td>10000012</td>\n",
       "      <td>27703</td>\n",
       "      <td>Card</td>\n",
       "    </tr>\n",
       "    <tr>\n",
       "      <th>2</th>\n",
       "      <td>10000013</td>\n",
       "      <td>28712</td>\n",
       "      <td>Cash</td>\n",
       "    </tr>\n",
       "    <tr>\n",
       "      <th>3</th>\n",
       "      <td>10000014</td>\n",
       "      <td>28020</td>\n",
       "      <td>Cash</td>\n",
       "    </tr>\n",
       "    <tr>\n",
       "      <th>4</th>\n",
       "      <td>10000015</td>\n",
       "      <td>27182</td>\n",
       "      <td>Card</td>\n",
       "    </tr>\n",
       "  </tbody>\n",
       "</table>\n",
       "</div>"
      ],
      "text/plain": [
       "   Transaction ID  Customer ID Payment_Mode\n",
       "0        10000011        29290         Card\n",
       "1        10000012        27703         Card\n",
       "2        10000013        28712         Cash\n",
       "3        10000014        28020         Cash\n",
       "4        10000015        27182         Card"
      ]
     },
     "execution_count": 38,
     "metadata": {},
     "output_type": "execute_result"
    }
   ],
   "source": [
    "# First of all I need to make 'Transaction ID' normal column by reset index\n",
    "Transaction_ID=Transaction_ID.reset_index()\n",
    "Transaction_ID.head()"
   ]
  },
  {
   "cell_type": "code",
   "execution_count": 39,
   "id": "2ccb6c92",
   "metadata": {},
   "outputs": [
    {
     "data": {
      "text/html": [
       "<div>\n",
       "<style scoped>\n",
       "    .dataframe tbody tr th:only-of-type {\n",
       "        vertical-align: middle;\n",
       "    }\n",
       "\n",
       "    .dataframe tbody tr th {\n",
       "        vertical-align: top;\n",
       "    }\n",
       "\n",
       "    .dataframe thead th {\n",
       "        text-align: right;\n",
       "    }\n",
       "</style>\n",
       "<table border=\"1\" class=\"dataframe\">\n",
       "  <thead>\n",
       "    <tr style=\"text-align: right;\">\n",
       "      <th></th>\n",
       "      <th>Transaction ID</th>\n",
       "      <th>Date of Travel</th>\n",
       "      <th>Company</th>\n",
       "      <th>City</th>\n",
       "      <th>KM Travelled</th>\n",
       "      <th>Price Charged</th>\n",
       "      <th>Cost of Trip</th>\n",
       "      <th>Customer ID</th>\n",
       "      <th>Payment_Mode</th>\n",
       "    </tr>\n",
       "  </thead>\n",
       "  <tbody>\n",
       "    <tr>\n",
       "      <th>0</th>\n",
       "      <td>10000011</td>\n",
       "      <td>42377</td>\n",
       "      <td>Pink Cab</td>\n",
       "      <td>ATLANTA GA</td>\n",
       "      <td>30.45</td>\n",
       "      <td>370.95</td>\n",
       "      <td>313.6350</td>\n",
       "      <td>29290</td>\n",
       "      <td>Card</td>\n",
       "    </tr>\n",
       "    <tr>\n",
       "      <th>1</th>\n",
       "      <td>10000012</td>\n",
       "      <td>42375</td>\n",
       "      <td>Pink Cab</td>\n",
       "      <td>ATLANTA GA</td>\n",
       "      <td>28.62</td>\n",
       "      <td>358.52</td>\n",
       "      <td>334.8540</td>\n",
       "      <td>27703</td>\n",
       "      <td>Card</td>\n",
       "    </tr>\n",
       "    <tr>\n",
       "      <th>2</th>\n",
       "      <td>10000013</td>\n",
       "      <td>42371</td>\n",
       "      <td>Pink Cab</td>\n",
       "      <td>ATLANTA GA</td>\n",
       "      <td>9.04</td>\n",
       "      <td>125.20</td>\n",
       "      <td>97.6320</td>\n",
       "      <td>28712</td>\n",
       "      <td>Cash</td>\n",
       "    </tr>\n",
       "    <tr>\n",
       "      <th>3</th>\n",
       "      <td>10000014</td>\n",
       "      <td>42376</td>\n",
       "      <td>Pink Cab</td>\n",
       "      <td>ATLANTA GA</td>\n",
       "      <td>33.17</td>\n",
       "      <td>377.40</td>\n",
       "      <td>351.6020</td>\n",
       "      <td>28020</td>\n",
       "      <td>Cash</td>\n",
       "    </tr>\n",
       "    <tr>\n",
       "      <th>4</th>\n",
       "      <td>10000015</td>\n",
       "      <td>42372</td>\n",
       "      <td>Pink Cab</td>\n",
       "      <td>ATLANTA GA</td>\n",
       "      <td>8.73</td>\n",
       "      <td>114.62</td>\n",
       "      <td>97.7760</td>\n",
       "      <td>27182</td>\n",
       "      <td>Card</td>\n",
       "    </tr>\n",
       "    <tr>\n",
       "      <th>...</th>\n",
       "      <td>...</td>\n",
       "      <td>...</td>\n",
       "      <td>...</td>\n",
       "      <td>...</td>\n",
       "      <td>...</td>\n",
       "      <td>...</td>\n",
       "      <td>...</td>\n",
       "      <td>...</td>\n",
       "      <td>...</td>\n",
       "    </tr>\n",
       "    <tr>\n",
       "      <th>359387</th>\n",
       "      <td>10440101</td>\n",
       "      <td>43108</td>\n",
       "      <td>Yellow Cab</td>\n",
       "      <td>WASHINGTON DC</td>\n",
       "      <td>4.80</td>\n",
       "      <td>69.24</td>\n",
       "      <td>63.3600</td>\n",
       "      <td>52392</td>\n",
       "      <td>Cash</td>\n",
       "    </tr>\n",
       "    <tr>\n",
       "      <th>359388</th>\n",
       "      <td>10440104</td>\n",
       "      <td>43104</td>\n",
       "      <td>Yellow Cab</td>\n",
       "      <td>WASHINGTON DC</td>\n",
       "      <td>8.40</td>\n",
       "      <td>113.75</td>\n",
       "      <td>106.8480</td>\n",
       "      <td>53286</td>\n",
       "      <td>Cash</td>\n",
       "    </tr>\n",
       "    <tr>\n",
       "      <th>359389</th>\n",
       "      <td>10440105</td>\n",
       "      <td>43105</td>\n",
       "      <td>Yellow Cab</td>\n",
       "      <td>WASHINGTON DC</td>\n",
       "      <td>27.75</td>\n",
       "      <td>437.07</td>\n",
       "      <td>349.6500</td>\n",
       "      <td>52265</td>\n",
       "      <td>Cash</td>\n",
       "    </tr>\n",
       "    <tr>\n",
       "      <th>359390</th>\n",
       "      <td>10440106</td>\n",
       "      <td>43105</td>\n",
       "      <td>Yellow Cab</td>\n",
       "      <td>WASHINGTON DC</td>\n",
       "      <td>8.80</td>\n",
       "      <td>146.19</td>\n",
       "      <td>114.0480</td>\n",
       "      <td>52175</td>\n",
       "      <td>Card</td>\n",
       "    </tr>\n",
       "    <tr>\n",
       "      <th>359391</th>\n",
       "      <td>10440107</td>\n",
       "      <td>43102</td>\n",
       "      <td>Yellow Cab</td>\n",
       "      <td>WASHINGTON DC</td>\n",
       "      <td>12.76</td>\n",
       "      <td>191.58</td>\n",
       "      <td>177.6192</td>\n",
       "      <td>52917</td>\n",
       "      <td>Card</td>\n",
       "    </tr>\n",
       "  </tbody>\n",
       "</table>\n",
       "<p>359392 rows × 9 columns</p>\n",
       "</div>"
      ],
      "text/plain": [
       "        Transaction ID  Date of Travel     Company           City  \\\n",
       "0             10000011           42377    Pink Cab     ATLANTA GA   \n",
       "1             10000012           42375    Pink Cab     ATLANTA GA   \n",
       "2             10000013           42371    Pink Cab     ATLANTA GA   \n",
       "3             10000014           42376    Pink Cab     ATLANTA GA   \n",
       "4             10000015           42372    Pink Cab     ATLANTA GA   \n",
       "...                ...             ...         ...            ...   \n",
       "359387        10440101           43108  Yellow Cab  WASHINGTON DC   \n",
       "359388        10440104           43104  Yellow Cab  WASHINGTON DC   \n",
       "359389        10440105           43105  Yellow Cab  WASHINGTON DC   \n",
       "359390        10440106           43105  Yellow Cab  WASHINGTON DC   \n",
       "359391        10440107           43102  Yellow Cab  WASHINGTON DC   \n",
       "\n",
       "        KM Travelled  Price Charged  Cost of Trip  Customer ID Payment_Mode  \n",
       "0              30.45         370.95      313.6350        29290         Card  \n",
       "1              28.62         358.52      334.8540        27703         Card  \n",
       "2               9.04         125.20       97.6320        28712         Cash  \n",
       "3              33.17         377.40      351.6020        28020         Cash  \n",
       "4               8.73         114.62       97.7760        27182         Card  \n",
       "...              ...            ...           ...          ...          ...  \n",
       "359387          4.80          69.24       63.3600        52392         Cash  \n",
       "359388          8.40         113.75      106.8480        53286         Cash  \n",
       "359389         27.75         437.07      349.6500        52265         Cash  \n",
       "359390          8.80         146.19      114.0480        52175         Card  \n",
       "359391         12.76         191.58      177.6192        52917         Card  \n",
       "\n",
       "[359392 rows x 9 columns]"
      ]
     },
     "execution_count": 39,
     "metadata": {},
     "output_type": "execute_result"
    }
   ],
   "source": [
    "master_dataset = pd.merge(Cab_Data, Transaction_ID, on='Transaction ID', how='left')\n",
    "master_dataset"
   ]
  },
  {
   "cell_type": "code",
   "execution_count": 40,
   "id": "c5da7bb8",
   "metadata": {},
   "outputs": [
    {
     "name": "stdout",
     "output_type": "stream",
     "text": [
      "True\n"
     ]
    }
   ],
   "source": [
    "# Just to check if every thing is okay\n",
    "print(len(master_dataset)==len(Cab_Data))"
   ]
  },
  {
   "cell_type": "markdown",
   "id": "f881452f",
   "metadata": {},
   "source": [
    "**2nd** Merge master_dataset with Customer_ID based on 'Customer ID' column"
   ]
  },
  {
   "cell_type": "code",
   "execution_count": 41,
   "id": "06f13c29",
   "metadata": {
    "scrolled": true
   },
   "outputs": [
    {
     "data": {
      "text/html": [
       "<div>\n",
       "<style scoped>\n",
       "    .dataframe tbody tr th:only-of-type {\n",
       "        vertical-align: middle;\n",
       "    }\n",
       "\n",
       "    .dataframe tbody tr th {\n",
       "        vertical-align: top;\n",
       "    }\n",
       "\n",
       "    .dataframe thead th {\n",
       "        text-align: right;\n",
       "    }\n",
       "</style>\n",
       "<table border=\"1\" class=\"dataframe\">\n",
       "  <thead>\n",
       "    <tr style=\"text-align: right;\">\n",
       "      <th></th>\n",
       "      <th>Transaction ID</th>\n",
       "      <th>Date of Travel</th>\n",
       "      <th>Company</th>\n",
       "      <th>City</th>\n",
       "      <th>KM Travelled</th>\n",
       "      <th>Price Charged</th>\n",
       "      <th>Cost of Trip</th>\n",
       "      <th>Customer ID</th>\n",
       "      <th>Payment_Mode</th>\n",
       "      <th>Gender</th>\n",
       "      <th>Age</th>\n",
       "      <th>Income (USD/Month)</th>\n",
       "    </tr>\n",
       "  </thead>\n",
       "  <tbody>\n",
       "    <tr>\n",
       "      <th>0</th>\n",
       "      <td>10000011</td>\n",
       "      <td>42377</td>\n",
       "      <td>Pink Cab</td>\n",
       "      <td>ATLANTA GA</td>\n",
       "      <td>30.45</td>\n",
       "      <td>370.95</td>\n",
       "      <td>313.6350</td>\n",
       "      <td>29290</td>\n",
       "      <td>Card</td>\n",
       "      <td>Male</td>\n",
       "      <td>28</td>\n",
       "      <td>10813</td>\n",
       "    </tr>\n",
       "    <tr>\n",
       "      <th>1</th>\n",
       "      <td>10000012</td>\n",
       "      <td>42375</td>\n",
       "      <td>Pink Cab</td>\n",
       "      <td>ATLANTA GA</td>\n",
       "      <td>28.62</td>\n",
       "      <td>358.52</td>\n",
       "      <td>334.8540</td>\n",
       "      <td>27703</td>\n",
       "      <td>Card</td>\n",
       "      <td>Male</td>\n",
       "      <td>27</td>\n",
       "      <td>9237</td>\n",
       "    </tr>\n",
       "    <tr>\n",
       "      <th>2</th>\n",
       "      <td>10000013</td>\n",
       "      <td>42371</td>\n",
       "      <td>Pink Cab</td>\n",
       "      <td>ATLANTA GA</td>\n",
       "      <td>9.04</td>\n",
       "      <td>125.20</td>\n",
       "      <td>97.6320</td>\n",
       "      <td>28712</td>\n",
       "      <td>Cash</td>\n",
       "      <td>Male</td>\n",
       "      <td>53</td>\n",
       "      <td>11242</td>\n",
       "    </tr>\n",
       "    <tr>\n",
       "      <th>3</th>\n",
       "      <td>10000014</td>\n",
       "      <td>42376</td>\n",
       "      <td>Pink Cab</td>\n",
       "      <td>ATLANTA GA</td>\n",
       "      <td>33.17</td>\n",
       "      <td>377.40</td>\n",
       "      <td>351.6020</td>\n",
       "      <td>28020</td>\n",
       "      <td>Cash</td>\n",
       "      <td>Male</td>\n",
       "      <td>23</td>\n",
       "      <td>23327</td>\n",
       "    </tr>\n",
       "    <tr>\n",
       "      <th>4</th>\n",
       "      <td>10000015</td>\n",
       "      <td>42372</td>\n",
       "      <td>Pink Cab</td>\n",
       "      <td>ATLANTA GA</td>\n",
       "      <td>8.73</td>\n",
       "      <td>114.62</td>\n",
       "      <td>97.7760</td>\n",
       "      <td>27182</td>\n",
       "      <td>Card</td>\n",
       "      <td>Male</td>\n",
       "      <td>33</td>\n",
       "      <td>8536</td>\n",
       "    </tr>\n",
       "    <tr>\n",
       "      <th>...</th>\n",
       "      <td>...</td>\n",
       "      <td>...</td>\n",
       "      <td>...</td>\n",
       "      <td>...</td>\n",
       "      <td>...</td>\n",
       "      <td>...</td>\n",
       "      <td>...</td>\n",
       "      <td>...</td>\n",
       "      <td>...</td>\n",
       "      <td>...</td>\n",
       "      <td>...</td>\n",
       "      <td>...</td>\n",
       "    </tr>\n",
       "    <tr>\n",
       "      <th>359387</th>\n",
       "      <td>10440101</td>\n",
       "      <td>43108</td>\n",
       "      <td>Yellow Cab</td>\n",
       "      <td>WASHINGTON DC</td>\n",
       "      <td>4.80</td>\n",
       "      <td>69.24</td>\n",
       "      <td>63.3600</td>\n",
       "      <td>52392</td>\n",
       "      <td>Cash</td>\n",
       "      <td>Male</td>\n",
       "      <td>24</td>\n",
       "      <td>15651</td>\n",
       "    </tr>\n",
       "    <tr>\n",
       "      <th>359388</th>\n",
       "      <td>10440104</td>\n",
       "      <td>43104</td>\n",
       "      <td>Yellow Cab</td>\n",
       "      <td>WASHINGTON DC</td>\n",
       "      <td>8.40</td>\n",
       "      <td>113.75</td>\n",
       "      <td>106.8480</td>\n",
       "      <td>53286</td>\n",
       "      <td>Cash</td>\n",
       "      <td>Male</td>\n",
       "      <td>32</td>\n",
       "      <td>6528</td>\n",
       "    </tr>\n",
       "    <tr>\n",
       "      <th>359389</th>\n",
       "      <td>10440105</td>\n",
       "      <td>43105</td>\n",
       "      <td>Yellow Cab</td>\n",
       "      <td>WASHINGTON DC</td>\n",
       "      <td>27.75</td>\n",
       "      <td>437.07</td>\n",
       "      <td>349.6500</td>\n",
       "      <td>52265</td>\n",
       "      <td>Cash</td>\n",
       "      <td>Male</td>\n",
       "      <td>56</td>\n",
       "      <td>7966</td>\n",
       "    </tr>\n",
       "    <tr>\n",
       "      <th>359390</th>\n",
       "      <td>10440106</td>\n",
       "      <td>43105</td>\n",
       "      <td>Yellow Cab</td>\n",
       "      <td>WASHINGTON DC</td>\n",
       "      <td>8.80</td>\n",
       "      <td>146.19</td>\n",
       "      <td>114.0480</td>\n",
       "      <td>52175</td>\n",
       "      <td>Card</td>\n",
       "      <td>Male</td>\n",
       "      <td>32</td>\n",
       "      <td>6423</td>\n",
       "    </tr>\n",
       "    <tr>\n",
       "      <th>359391</th>\n",
       "      <td>10440107</td>\n",
       "      <td>43102</td>\n",
       "      <td>Yellow Cab</td>\n",
       "      <td>WASHINGTON DC</td>\n",
       "      <td>12.76</td>\n",
       "      <td>191.58</td>\n",
       "      <td>177.6192</td>\n",
       "      <td>52917</td>\n",
       "      <td>Card</td>\n",
       "      <td>Male</td>\n",
       "      <td>20</td>\n",
       "      <td>11284</td>\n",
       "    </tr>\n",
       "  </tbody>\n",
       "</table>\n",
       "<p>359392 rows × 12 columns</p>\n",
       "</div>"
      ],
      "text/plain": [
       "        Transaction ID  Date of Travel     Company           City  \\\n",
       "0             10000011           42377    Pink Cab     ATLANTA GA   \n",
       "1             10000012           42375    Pink Cab     ATLANTA GA   \n",
       "2             10000013           42371    Pink Cab     ATLANTA GA   \n",
       "3             10000014           42376    Pink Cab     ATLANTA GA   \n",
       "4             10000015           42372    Pink Cab     ATLANTA GA   \n",
       "...                ...             ...         ...            ...   \n",
       "359387        10440101           43108  Yellow Cab  WASHINGTON DC   \n",
       "359388        10440104           43104  Yellow Cab  WASHINGTON DC   \n",
       "359389        10440105           43105  Yellow Cab  WASHINGTON DC   \n",
       "359390        10440106           43105  Yellow Cab  WASHINGTON DC   \n",
       "359391        10440107           43102  Yellow Cab  WASHINGTON DC   \n",
       "\n",
       "        KM Travelled  Price Charged  Cost of Trip  Customer ID Payment_Mode  \\\n",
       "0              30.45         370.95      313.6350        29290         Card   \n",
       "1              28.62         358.52      334.8540        27703         Card   \n",
       "2               9.04         125.20       97.6320        28712         Cash   \n",
       "3              33.17         377.40      351.6020        28020         Cash   \n",
       "4               8.73         114.62       97.7760        27182         Card   \n",
       "...              ...            ...           ...          ...          ...   \n",
       "359387          4.80          69.24       63.3600        52392         Cash   \n",
       "359388          8.40         113.75      106.8480        53286         Cash   \n",
       "359389         27.75         437.07      349.6500        52265         Cash   \n",
       "359390          8.80         146.19      114.0480        52175         Card   \n",
       "359391         12.76         191.58      177.6192        52917         Card   \n",
       "\n",
       "       Gender  Age  Income (USD/Month)  \n",
       "0        Male   28               10813  \n",
       "1        Male   27                9237  \n",
       "2        Male   53               11242  \n",
       "3        Male   23               23327  \n",
       "4        Male   33                8536  \n",
       "...       ...  ...                 ...  \n",
       "359387   Male   24               15651  \n",
       "359388   Male   32                6528  \n",
       "359389   Male   56                7966  \n",
       "359390   Male   32                6423  \n",
       "359391   Male   20               11284  \n",
       "\n",
       "[359392 rows x 12 columns]"
      ]
     },
     "execution_count": 41,
     "metadata": {},
     "output_type": "execute_result"
    }
   ],
   "source": [
    "master_dataset = pd.merge(master_dataset, Customer_ID, on='Customer ID', how='left')\n",
    "master_dataset"
   ]
  },
  {
   "cell_type": "markdown",
   "id": "77d127fb",
   "metadata": {},
   "source": [
    "**I will not merge** master_dataset with City so that each row in master_dataset indecates one ride info"
   ]
  },
  {
   "cell_type": "markdown",
   "id": "ed12e5f1",
   "metadata": {},
   "source": [
    "## Rrenaming Columns"
   ]
  },
  {
   "cell_type": "code",
   "execution_count": 42,
   "id": "2bb155fc",
   "metadata": {},
   "outputs": [
    {
     "data": {
      "text/html": [
       "<div>\n",
       "<style scoped>\n",
       "    .dataframe tbody tr th:only-of-type {\n",
       "        vertical-align: middle;\n",
       "    }\n",
       "\n",
       "    .dataframe tbody tr th {\n",
       "        vertical-align: top;\n",
       "    }\n",
       "\n",
       "    .dataframe thead th {\n",
       "        text-align: right;\n",
       "    }\n",
       "</style>\n",
       "<table border=\"1\" class=\"dataframe\">\n",
       "  <thead>\n",
       "    <tr style=\"text-align: right;\">\n",
       "      <th></th>\n",
       "      <th>Transaction_ID</th>\n",
       "      <th>Date_of_Travel</th>\n",
       "      <th>Company</th>\n",
       "      <th>City</th>\n",
       "      <th>KM_Travelled</th>\n",
       "      <th>Price_Charged</th>\n",
       "      <th>Cost_of_Trip</th>\n",
       "      <th>Customer_ID</th>\n",
       "      <th>Payment_Mode</th>\n",
       "      <th>Gender</th>\n",
       "      <th>Age</th>\n",
       "      <th>Income_(USD/Month)</th>\n",
       "    </tr>\n",
       "  </thead>\n",
       "  <tbody>\n",
       "    <tr>\n",
       "      <th>0</th>\n",
       "      <td>10000011</td>\n",
       "      <td>42377</td>\n",
       "      <td>Pink Cab</td>\n",
       "      <td>ATLANTA GA</td>\n",
       "      <td>30.45</td>\n",
       "      <td>370.95</td>\n",
       "      <td>313.6350</td>\n",
       "      <td>29290</td>\n",
       "      <td>Card</td>\n",
       "      <td>Male</td>\n",
       "      <td>28</td>\n",
       "      <td>10813</td>\n",
       "    </tr>\n",
       "    <tr>\n",
       "      <th>1</th>\n",
       "      <td>10000012</td>\n",
       "      <td>42375</td>\n",
       "      <td>Pink Cab</td>\n",
       "      <td>ATLANTA GA</td>\n",
       "      <td>28.62</td>\n",
       "      <td>358.52</td>\n",
       "      <td>334.8540</td>\n",
       "      <td>27703</td>\n",
       "      <td>Card</td>\n",
       "      <td>Male</td>\n",
       "      <td>27</td>\n",
       "      <td>9237</td>\n",
       "    </tr>\n",
       "    <tr>\n",
       "      <th>2</th>\n",
       "      <td>10000013</td>\n",
       "      <td>42371</td>\n",
       "      <td>Pink Cab</td>\n",
       "      <td>ATLANTA GA</td>\n",
       "      <td>9.04</td>\n",
       "      <td>125.20</td>\n",
       "      <td>97.6320</td>\n",
       "      <td>28712</td>\n",
       "      <td>Cash</td>\n",
       "      <td>Male</td>\n",
       "      <td>53</td>\n",
       "      <td>11242</td>\n",
       "    </tr>\n",
       "    <tr>\n",
       "      <th>3</th>\n",
       "      <td>10000014</td>\n",
       "      <td>42376</td>\n",
       "      <td>Pink Cab</td>\n",
       "      <td>ATLANTA GA</td>\n",
       "      <td>33.17</td>\n",
       "      <td>377.40</td>\n",
       "      <td>351.6020</td>\n",
       "      <td>28020</td>\n",
       "      <td>Cash</td>\n",
       "      <td>Male</td>\n",
       "      <td>23</td>\n",
       "      <td>23327</td>\n",
       "    </tr>\n",
       "    <tr>\n",
       "      <th>4</th>\n",
       "      <td>10000015</td>\n",
       "      <td>42372</td>\n",
       "      <td>Pink Cab</td>\n",
       "      <td>ATLANTA GA</td>\n",
       "      <td>8.73</td>\n",
       "      <td>114.62</td>\n",
       "      <td>97.7760</td>\n",
       "      <td>27182</td>\n",
       "      <td>Card</td>\n",
       "      <td>Male</td>\n",
       "      <td>33</td>\n",
       "      <td>8536</td>\n",
       "    </tr>\n",
       "    <tr>\n",
       "      <th>...</th>\n",
       "      <td>...</td>\n",
       "      <td>...</td>\n",
       "      <td>...</td>\n",
       "      <td>...</td>\n",
       "      <td>...</td>\n",
       "      <td>...</td>\n",
       "      <td>...</td>\n",
       "      <td>...</td>\n",
       "      <td>...</td>\n",
       "      <td>...</td>\n",
       "      <td>...</td>\n",
       "      <td>...</td>\n",
       "    </tr>\n",
       "    <tr>\n",
       "      <th>359387</th>\n",
       "      <td>10440101</td>\n",
       "      <td>43108</td>\n",
       "      <td>Yellow Cab</td>\n",
       "      <td>WASHINGTON DC</td>\n",
       "      <td>4.80</td>\n",
       "      <td>69.24</td>\n",
       "      <td>63.3600</td>\n",
       "      <td>52392</td>\n",
       "      <td>Cash</td>\n",
       "      <td>Male</td>\n",
       "      <td>24</td>\n",
       "      <td>15651</td>\n",
       "    </tr>\n",
       "    <tr>\n",
       "      <th>359388</th>\n",
       "      <td>10440104</td>\n",
       "      <td>43104</td>\n",
       "      <td>Yellow Cab</td>\n",
       "      <td>WASHINGTON DC</td>\n",
       "      <td>8.40</td>\n",
       "      <td>113.75</td>\n",
       "      <td>106.8480</td>\n",
       "      <td>53286</td>\n",
       "      <td>Cash</td>\n",
       "      <td>Male</td>\n",
       "      <td>32</td>\n",
       "      <td>6528</td>\n",
       "    </tr>\n",
       "    <tr>\n",
       "      <th>359389</th>\n",
       "      <td>10440105</td>\n",
       "      <td>43105</td>\n",
       "      <td>Yellow Cab</td>\n",
       "      <td>WASHINGTON DC</td>\n",
       "      <td>27.75</td>\n",
       "      <td>437.07</td>\n",
       "      <td>349.6500</td>\n",
       "      <td>52265</td>\n",
       "      <td>Cash</td>\n",
       "      <td>Male</td>\n",
       "      <td>56</td>\n",
       "      <td>7966</td>\n",
       "    </tr>\n",
       "    <tr>\n",
       "      <th>359390</th>\n",
       "      <td>10440106</td>\n",
       "      <td>43105</td>\n",
       "      <td>Yellow Cab</td>\n",
       "      <td>WASHINGTON DC</td>\n",
       "      <td>8.80</td>\n",
       "      <td>146.19</td>\n",
       "      <td>114.0480</td>\n",
       "      <td>52175</td>\n",
       "      <td>Card</td>\n",
       "      <td>Male</td>\n",
       "      <td>32</td>\n",
       "      <td>6423</td>\n",
       "    </tr>\n",
       "    <tr>\n",
       "      <th>359391</th>\n",
       "      <td>10440107</td>\n",
       "      <td>43102</td>\n",
       "      <td>Yellow Cab</td>\n",
       "      <td>WASHINGTON DC</td>\n",
       "      <td>12.76</td>\n",
       "      <td>191.58</td>\n",
       "      <td>177.6192</td>\n",
       "      <td>52917</td>\n",
       "      <td>Card</td>\n",
       "      <td>Male</td>\n",
       "      <td>20</td>\n",
       "      <td>11284</td>\n",
       "    </tr>\n",
       "  </tbody>\n",
       "</table>\n",
       "<p>359392 rows × 12 columns</p>\n",
       "</div>"
      ],
      "text/plain": [
       "        Transaction_ID  Date_of_Travel     Company           City  \\\n",
       "0             10000011           42377    Pink Cab     ATLANTA GA   \n",
       "1             10000012           42375    Pink Cab     ATLANTA GA   \n",
       "2             10000013           42371    Pink Cab     ATLANTA GA   \n",
       "3             10000014           42376    Pink Cab     ATLANTA GA   \n",
       "4             10000015           42372    Pink Cab     ATLANTA GA   \n",
       "...                ...             ...         ...            ...   \n",
       "359387        10440101           43108  Yellow Cab  WASHINGTON DC   \n",
       "359388        10440104           43104  Yellow Cab  WASHINGTON DC   \n",
       "359389        10440105           43105  Yellow Cab  WASHINGTON DC   \n",
       "359390        10440106           43105  Yellow Cab  WASHINGTON DC   \n",
       "359391        10440107           43102  Yellow Cab  WASHINGTON DC   \n",
       "\n",
       "        KM_Travelled  Price_Charged  Cost_of_Trip  Customer_ID Payment_Mode  \\\n",
       "0              30.45         370.95      313.6350        29290         Card   \n",
       "1              28.62         358.52      334.8540        27703         Card   \n",
       "2               9.04         125.20       97.6320        28712         Cash   \n",
       "3              33.17         377.40      351.6020        28020         Cash   \n",
       "4               8.73         114.62       97.7760        27182         Card   \n",
       "...              ...            ...           ...          ...          ...   \n",
       "359387          4.80          69.24       63.3600        52392         Cash   \n",
       "359388          8.40         113.75      106.8480        53286         Cash   \n",
       "359389         27.75         437.07      349.6500        52265         Cash   \n",
       "359390          8.80         146.19      114.0480        52175         Card   \n",
       "359391         12.76         191.58      177.6192        52917         Card   \n",
       "\n",
       "       Gender  Age  Income_(USD/Month)  \n",
       "0        Male   28               10813  \n",
       "1        Male   27                9237  \n",
       "2        Male   53               11242  \n",
       "3        Male   23               23327  \n",
       "4        Male   33                8536  \n",
       "...       ...  ...                 ...  \n",
       "359387   Male   24               15651  \n",
       "359388   Male   32                6528  \n",
       "359389   Male   56                7966  \n",
       "359390   Male   32                6423  \n",
       "359391   Male   20               11284  \n",
       "\n",
       "[359392 rows x 12 columns]"
      ]
     },
     "execution_count": 42,
     "metadata": {},
     "output_type": "execute_result"
    }
   ],
   "source": [
    "# not necessary step, just for convenience!\n",
    "master_dataset.columns = master_dataset.columns.str.replace(' ','_')\n",
    "master_dataset"
   ]
  },
  {
   "cell_type": "markdown",
   "id": "59d72e43",
   "metadata": {},
   "source": [
    "## Understanding Dataset"
   ]
  },
  {
   "cell_type": "code",
   "execution_count": 43,
   "id": "d64504c6",
   "metadata": {
    "scrolled": false
   },
   "outputs": [
    {
     "name": "stdout",
     "output_type": "stream",
     "text": [
      "<class 'pandas.core.frame.DataFrame'>\n",
      "RangeIndex: 359392 entries, 0 to 359391\n",
      "Data columns (total 12 columns):\n",
      " #   Column              Non-Null Count   Dtype  \n",
      "---  ------              --------------   -----  \n",
      " 0   Transaction_ID      359392 non-null  int64  \n",
      " 1   Date_of_Travel      359392 non-null  int64  \n",
      " 2   Company             359392 non-null  object \n",
      " 3   City                359392 non-null  object \n",
      " 4   KM_Travelled        359392 non-null  float64\n",
      " 5   Price_Charged       359392 non-null  float64\n",
      " 6   Cost_of_Trip        359392 non-null  float64\n",
      " 7   Customer_ID         359392 non-null  int64  \n",
      " 8   Payment_Mode        359392 non-null  object \n",
      " 9   Gender              359392 non-null  object \n",
      " 10  Age                 359392 non-null  int64  \n",
      " 11  Income_(USD/Month)  359392 non-null  int64  \n",
      "dtypes: float64(3), int64(5), object(4)\n",
      "memory usage: 32.9+ MB\n"
     ]
    }
   ],
   "source": [
    "master_dataset.info()"
   ]
  },
  {
   "cell_type": "code",
   "execution_count": 44,
   "id": "7366d76f",
   "metadata": {},
   "outputs": [
    {
     "name": "stdout",
     "output_type": "stream",
     "text": [
      "<class 'pandas.core.frame.DataFrame'>\n",
      "RangeIndex: 359392 entries, 0 to 359391\n",
      "Data columns (total 12 columns):\n",
      " #   Column              Non-Null Count   Dtype  \n",
      "---  ------              --------------   -----  \n",
      " 0   Transaction_ID      359392 non-null  object \n",
      " 1   Date_of_Travel      359392 non-null  int64  \n",
      " 2   Company             359392 non-null  object \n",
      " 3   City                359392 non-null  object \n",
      " 4   KM_Travelled        359392 non-null  float64\n",
      " 5   Price_Charged       359392 non-null  float64\n",
      " 6   Cost_of_Trip        359392 non-null  float64\n",
      " 7   Customer_ID         359392 non-null  object \n",
      " 8   Payment_Mode        359392 non-null  object \n",
      " 9   Gender              359392 non-null  object \n",
      " 10  Age                 359392 non-null  int64  \n",
      " 11  Income_(USD/Month)  359392 non-null  int64  \n",
      "dtypes: float64(3), int64(3), object(6)\n",
      "memory usage: 32.9+ MB\n"
     ]
    }
   ],
   "source": [
    "# change Transaction_ID and Customer_ID data types from int to str\n",
    "master_dataset=master_dataset.astype({'Transaction_ID':str, 'Customer_ID':str})\n",
    "\n",
    "master_dataset.info()"
   ]
  },
  {
   "cell_type": "code",
   "execution_count": 45,
   "id": "8306b57e",
   "metadata": {},
   "outputs": [
    {
     "data": {
      "text/html": [
       "<div>\n",
       "<style scoped>\n",
       "    .dataframe tbody tr th:only-of-type {\n",
       "        vertical-align: middle;\n",
       "    }\n",
       "\n",
       "    .dataframe tbody tr th {\n",
       "        vertical-align: top;\n",
       "    }\n",
       "\n",
       "    .dataframe thead th {\n",
       "        text-align: right;\n",
       "    }\n",
       "</style>\n",
       "<table border=\"1\" class=\"dataframe\">\n",
       "  <thead>\n",
       "    <tr style=\"text-align: right;\">\n",
       "      <th></th>\n",
       "      <th>Date_of_Travel</th>\n",
       "      <th>KM_Travelled</th>\n",
       "      <th>Price_Charged</th>\n",
       "      <th>Cost_of_Trip</th>\n",
       "      <th>Age</th>\n",
       "      <th>Income_(USD/Month)</th>\n",
       "    </tr>\n",
       "  </thead>\n",
       "  <tbody>\n",
       "    <tr>\n",
       "      <th>count</th>\n",
       "      <td>359392.000000</td>\n",
       "      <td>359392.000000</td>\n",
       "      <td>359392.000000</td>\n",
       "      <td>359392.000000</td>\n",
       "      <td>359392.000000</td>\n",
       "      <td>359392.000000</td>\n",
       "    </tr>\n",
       "    <tr>\n",
       "      <th>mean</th>\n",
       "      <td>42964.067998</td>\n",
       "      <td>22.567254</td>\n",
       "      <td>423.443311</td>\n",
       "      <td>286.190113</td>\n",
       "      <td>35.336705</td>\n",
       "      <td>15048.822937</td>\n",
       "    </tr>\n",
       "    <tr>\n",
       "      <th>std</th>\n",
       "      <td>307.467197</td>\n",
       "      <td>12.233526</td>\n",
       "      <td>274.378911</td>\n",
       "      <td>157.993661</td>\n",
       "      <td>12.594234</td>\n",
       "      <td>7969.409482</td>\n",
       "    </tr>\n",
       "    <tr>\n",
       "      <th>min</th>\n",
       "      <td>42371.000000</td>\n",
       "      <td>1.900000</td>\n",
       "      <td>15.600000</td>\n",
       "      <td>19.000000</td>\n",
       "      <td>18.000000</td>\n",
       "      <td>2000.000000</td>\n",
       "    </tr>\n",
       "    <tr>\n",
       "      <th>25%</th>\n",
       "      <td>42697.000000</td>\n",
       "      <td>12.000000</td>\n",
       "      <td>206.437500</td>\n",
       "      <td>151.200000</td>\n",
       "      <td>25.000000</td>\n",
       "      <td>8424.000000</td>\n",
       "    </tr>\n",
       "    <tr>\n",
       "      <th>50%</th>\n",
       "      <td>42988.000000</td>\n",
       "      <td>22.440000</td>\n",
       "      <td>386.360000</td>\n",
       "      <td>282.480000</td>\n",
       "      <td>33.000000</td>\n",
       "      <td>14685.000000</td>\n",
       "    </tr>\n",
       "    <tr>\n",
       "      <th>75%</th>\n",
       "      <td>43232.000000</td>\n",
       "      <td>32.960000</td>\n",
       "      <td>583.660000</td>\n",
       "      <td>413.683200</td>\n",
       "      <td>42.000000</td>\n",
       "      <td>21035.000000</td>\n",
       "    </tr>\n",
       "    <tr>\n",
       "      <th>max</th>\n",
       "      <td>43465.000000</td>\n",
       "      <td>48.000000</td>\n",
       "      <td>2048.030000</td>\n",
       "      <td>691.200000</td>\n",
       "      <td>65.000000</td>\n",
       "      <td>35000.000000</td>\n",
       "    </tr>\n",
       "  </tbody>\n",
       "</table>\n",
       "</div>"
      ],
      "text/plain": [
       "       Date_of_Travel   KM_Travelled  Price_Charged   Cost_of_Trip  \\\n",
       "count   359392.000000  359392.000000  359392.000000  359392.000000   \n",
       "mean     42964.067998      22.567254     423.443311     286.190113   \n",
       "std        307.467197      12.233526     274.378911     157.993661   \n",
       "min      42371.000000       1.900000      15.600000      19.000000   \n",
       "25%      42697.000000      12.000000     206.437500     151.200000   \n",
       "50%      42988.000000      22.440000     386.360000     282.480000   \n",
       "75%      43232.000000      32.960000     583.660000     413.683200   \n",
       "max      43465.000000      48.000000    2048.030000     691.200000   \n",
       "\n",
       "                 Age  Income_(USD/Month)  \n",
       "count  359392.000000       359392.000000  \n",
       "mean       35.336705        15048.822937  \n",
       "std        12.594234         7969.409482  \n",
       "min        18.000000         2000.000000  \n",
       "25%        25.000000         8424.000000  \n",
       "50%        33.000000        14685.000000  \n",
       "75%        42.000000        21035.000000  \n",
       "max        65.000000        35000.000000  "
      ]
     },
     "execution_count": 45,
     "metadata": {},
     "output_type": "execute_result"
    }
   ],
   "source": [
    "master_dataset.describe()"
   ]
  },
  {
   "cell_type": "code",
   "execution_count": 46,
   "id": "ad816fe5",
   "metadata": {},
   "outputs": [
    {
     "data": {
      "text/html": [
       "<div>\n",
       "<style scoped>\n",
       "    .dataframe tbody tr th:only-of-type {\n",
       "        vertical-align: middle;\n",
       "    }\n",
       "\n",
       "    .dataframe tbody tr th {\n",
       "        vertical-align: top;\n",
       "    }\n",
       "\n",
       "    .dataframe thead th {\n",
       "        text-align: right;\n",
       "    }\n",
       "</style>\n",
       "<table border=\"1\" class=\"dataframe\">\n",
       "  <thead>\n",
       "    <tr style=\"text-align: right;\">\n",
       "      <th></th>\n",
       "      <th>Transaction_ID</th>\n",
       "      <th>Company</th>\n",
       "      <th>City</th>\n",
       "      <th>Customer_ID</th>\n",
       "      <th>Payment_Mode</th>\n",
       "      <th>Gender</th>\n",
       "    </tr>\n",
       "  </thead>\n",
       "  <tbody>\n",
       "    <tr>\n",
       "      <th>count</th>\n",
       "      <td>359392</td>\n",
       "      <td>359392</td>\n",
       "      <td>359392</td>\n",
       "      <td>359392</td>\n",
       "      <td>359392</td>\n",
       "      <td>359392</td>\n",
       "    </tr>\n",
       "    <tr>\n",
       "      <th>unique</th>\n",
       "      <td>359392</td>\n",
       "      <td>2</td>\n",
       "      <td>19</td>\n",
       "      <td>46148</td>\n",
       "      <td>2</td>\n",
       "      <td>2</td>\n",
       "    </tr>\n",
       "    <tr>\n",
       "      <th>top</th>\n",
       "      <td>10000011</td>\n",
       "      <td>Yellow Cab</td>\n",
       "      <td>NEW YORK NY</td>\n",
       "      <td>494</td>\n",
       "      <td>Card</td>\n",
       "      <td>Male</td>\n",
       "    </tr>\n",
       "    <tr>\n",
       "      <th>freq</th>\n",
       "      <td>1</td>\n",
       "      <td>274681</td>\n",
       "      <td>99885</td>\n",
       "      <td>54</td>\n",
       "      <td>215504</td>\n",
       "      <td>205912</td>\n",
       "    </tr>\n",
       "  </tbody>\n",
       "</table>\n",
       "</div>"
      ],
      "text/plain": [
       "       Transaction_ID     Company         City Customer_ID Payment_Mode  \\\n",
       "count          359392      359392       359392      359392       359392   \n",
       "unique         359392           2           19       46148            2   \n",
       "top          10000011  Yellow Cab  NEW YORK NY         494         Card   \n",
       "freq                1      274681        99885          54       215504   \n",
       "\n",
       "        Gender  \n",
       "count   359392  \n",
       "unique       2  \n",
       "top       Male  \n",
       "freq    205912  "
      ]
     },
     "execution_count": 46,
     "metadata": {},
     "output_type": "execute_result"
    }
   ],
   "source": [
    "master_dataset.describe(include='O')"
   ]
  },
  {
   "cell_type": "code",
   "execution_count": 47,
   "id": "0c117520",
   "metadata": {},
   "outputs": [
    {
     "data": {
      "text/plain": [
       "Transaction_ID        0\n",
       "Date_of_Travel        0\n",
       "Company               0\n",
       "City                  0\n",
       "KM_Travelled          0\n",
       "Price_Charged         0\n",
       "Cost_of_Trip          0\n",
       "Customer_ID           0\n",
       "Payment_Mode          0\n",
       "Gender                0\n",
       "Age                   0\n",
       "Income_(USD/Month)    0\n",
       "dtype: int64"
      ]
     },
     "execution_count": 47,
     "metadata": {},
     "output_type": "execute_result"
    }
   ],
   "source": [
    "master_dataset.isnull().sum()"
   ]
  },
  {
   "cell_type": "code",
   "execution_count": 48,
   "id": "0efa80f7",
   "metadata": {},
   "outputs": [
    {
     "data": {
      "text/plain": [
       "0"
      ]
     },
     "execution_count": 48,
     "metadata": {},
     "output_type": "execute_result"
    }
   ],
   "source": [
    "master_dataset.duplicated().sum()"
   ]
  },
  {
   "cell_type": "markdown",
   "id": "02714d03",
   "metadata": {},
   "source": [
    "currently in master_dataset ther are **12 featurs** for each ride **\"359392 uniqe rides\"**"
   ]
  },
  {
   "cell_type": "markdown",
   "id": "ae350498",
   "metadata": {},
   "source": [
    "## Generating New Featurs"
   ]
  },
  {
   "cell_type": "markdown",
   "id": "d2967d2f",
   "metadata": {},
   "source": [
    "### Profit"
   ]
  },
  {
   "cell_type": "code",
   "execution_count": 49,
   "id": "d800c19d",
   "metadata": {},
   "outputs": [
    {
     "data": {
      "text/html": [
       "<div>\n",
       "<style scoped>\n",
       "    .dataframe tbody tr th:only-of-type {\n",
       "        vertical-align: middle;\n",
       "    }\n",
       "\n",
       "    .dataframe tbody tr th {\n",
       "        vertical-align: top;\n",
       "    }\n",
       "\n",
       "    .dataframe thead th {\n",
       "        text-align: right;\n",
       "    }\n",
       "</style>\n",
       "<table border=\"1\" class=\"dataframe\">\n",
       "  <thead>\n",
       "    <tr style=\"text-align: right;\">\n",
       "      <th></th>\n",
       "      <th>Transaction_ID</th>\n",
       "      <th>Date_of_Travel</th>\n",
       "      <th>Company</th>\n",
       "      <th>City</th>\n",
       "      <th>KM_Travelled</th>\n",
       "      <th>Price_Charged</th>\n",
       "      <th>Cost_of_Trip</th>\n",
       "      <th>Customer_ID</th>\n",
       "      <th>Payment_Mode</th>\n",
       "      <th>Gender</th>\n",
       "      <th>Age</th>\n",
       "      <th>Income_(USD/Month)</th>\n",
       "      <th>Profit</th>\n",
       "    </tr>\n",
       "  </thead>\n",
       "  <tbody>\n",
       "    <tr>\n",
       "      <th>0</th>\n",
       "      <td>10000011</td>\n",
       "      <td>42377</td>\n",
       "      <td>Pink Cab</td>\n",
       "      <td>ATLANTA GA</td>\n",
       "      <td>30.45</td>\n",
       "      <td>370.95</td>\n",
       "      <td>313.6350</td>\n",
       "      <td>29290</td>\n",
       "      <td>Card</td>\n",
       "      <td>Male</td>\n",
       "      <td>28</td>\n",
       "      <td>10813</td>\n",
       "      <td>57.3150</td>\n",
       "    </tr>\n",
       "    <tr>\n",
       "      <th>1</th>\n",
       "      <td>10000012</td>\n",
       "      <td>42375</td>\n",
       "      <td>Pink Cab</td>\n",
       "      <td>ATLANTA GA</td>\n",
       "      <td>28.62</td>\n",
       "      <td>358.52</td>\n",
       "      <td>334.8540</td>\n",
       "      <td>27703</td>\n",
       "      <td>Card</td>\n",
       "      <td>Male</td>\n",
       "      <td>27</td>\n",
       "      <td>9237</td>\n",
       "      <td>23.6660</td>\n",
       "    </tr>\n",
       "    <tr>\n",
       "      <th>2</th>\n",
       "      <td>10000013</td>\n",
       "      <td>42371</td>\n",
       "      <td>Pink Cab</td>\n",
       "      <td>ATLANTA GA</td>\n",
       "      <td>9.04</td>\n",
       "      <td>125.20</td>\n",
       "      <td>97.6320</td>\n",
       "      <td>28712</td>\n",
       "      <td>Cash</td>\n",
       "      <td>Male</td>\n",
       "      <td>53</td>\n",
       "      <td>11242</td>\n",
       "      <td>27.5680</td>\n",
       "    </tr>\n",
       "    <tr>\n",
       "      <th>3</th>\n",
       "      <td>10000014</td>\n",
       "      <td>42376</td>\n",
       "      <td>Pink Cab</td>\n",
       "      <td>ATLANTA GA</td>\n",
       "      <td>33.17</td>\n",
       "      <td>377.40</td>\n",
       "      <td>351.6020</td>\n",
       "      <td>28020</td>\n",
       "      <td>Cash</td>\n",
       "      <td>Male</td>\n",
       "      <td>23</td>\n",
       "      <td>23327</td>\n",
       "      <td>25.7980</td>\n",
       "    </tr>\n",
       "    <tr>\n",
       "      <th>4</th>\n",
       "      <td>10000015</td>\n",
       "      <td>42372</td>\n",
       "      <td>Pink Cab</td>\n",
       "      <td>ATLANTA GA</td>\n",
       "      <td>8.73</td>\n",
       "      <td>114.62</td>\n",
       "      <td>97.7760</td>\n",
       "      <td>27182</td>\n",
       "      <td>Card</td>\n",
       "      <td>Male</td>\n",
       "      <td>33</td>\n",
       "      <td>8536</td>\n",
       "      <td>16.8440</td>\n",
       "    </tr>\n",
       "    <tr>\n",
       "      <th>...</th>\n",
       "      <td>...</td>\n",
       "      <td>...</td>\n",
       "      <td>...</td>\n",
       "      <td>...</td>\n",
       "      <td>...</td>\n",
       "      <td>...</td>\n",
       "      <td>...</td>\n",
       "      <td>...</td>\n",
       "      <td>...</td>\n",
       "      <td>...</td>\n",
       "      <td>...</td>\n",
       "      <td>...</td>\n",
       "      <td>...</td>\n",
       "    </tr>\n",
       "    <tr>\n",
       "      <th>359387</th>\n",
       "      <td>10440101</td>\n",
       "      <td>43108</td>\n",
       "      <td>Yellow Cab</td>\n",
       "      <td>WASHINGTON DC</td>\n",
       "      <td>4.80</td>\n",
       "      <td>69.24</td>\n",
       "      <td>63.3600</td>\n",
       "      <td>52392</td>\n",
       "      <td>Cash</td>\n",
       "      <td>Male</td>\n",
       "      <td>24</td>\n",
       "      <td>15651</td>\n",
       "      <td>5.8800</td>\n",
       "    </tr>\n",
       "    <tr>\n",
       "      <th>359388</th>\n",
       "      <td>10440104</td>\n",
       "      <td>43104</td>\n",
       "      <td>Yellow Cab</td>\n",
       "      <td>WASHINGTON DC</td>\n",
       "      <td>8.40</td>\n",
       "      <td>113.75</td>\n",
       "      <td>106.8480</td>\n",
       "      <td>53286</td>\n",
       "      <td>Cash</td>\n",
       "      <td>Male</td>\n",
       "      <td>32</td>\n",
       "      <td>6528</td>\n",
       "      <td>6.9020</td>\n",
       "    </tr>\n",
       "    <tr>\n",
       "      <th>359389</th>\n",
       "      <td>10440105</td>\n",
       "      <td>43105</td>\n",
       "      <td>Yellow Cab</td>\n",
       "      <td>WASHINGTON DC</td>\n",
       "      <td>27.75</td>\n",
       "      <td>437.07</td>\n",
       "      <td>349.6500</td>\n",
       "      <td>52265</td>\n",
       "      <td>Cash</td>\n",
       "      <td>Male</td>\n",
       "      <td>56</td>\n",
       "      <td>7966</td>\n",
       "      <td>87.4200</td>\n",
       "    </tr>\n",
       "    <tr>\n",
       "      <th>359390</th>\n",
       "      <td>10440106</td>\n",
       "      <td>43105</td>\n",
       "      <td>Yellow Cab</td>\n",
       "      <td>WASHINGTON DC</td>\n",
       "      <td>8.80</td>\n",
       "      <td>146.19</td>\n",
       "      <td>114.0480</td>\n",
       "      <td>52175</td>\n",
       "      <td>Card</td>\n",
       "      <td>Male</td>\n",
       "      <td>32</td>\n",
       "      <td>6423</td>\n",
       "      <td>32.1420</td>\n",
       "    </tr>\n",
       "    <tr>\n",
       "      <th>359391</th>\n",
       "      <td>10440107</td>\n",
       "      <td>43102</td>\n",
       "      <td>Yellow Cab</td>\n",
       "      <td>WASHINGTON DC</td>\n",
       "      <td>12.76</td>\n",
       "      <td>191.58</td>\n",
       "      <td>177.6192</td>\n",
       "      <td>52917</td>\n",
       "      <td>Card</td>\n",
       "      <td>Male</td>\n",
       "      <td>20</td>\n",
       "      <td>11284</td>\n",
       "      <td>13.9608</td>\n",
       "    </tr>\n",
       "  </tbody>\n",
       "</table>\n",
       "<p>359392 rows × 13 columns</p>\n",
       "</div>"
      ],
      "text/plain": [
       "       Transaction_ID  Date_of_Travel     Company           City  \\\n",
       "0            10000011           42377    Pink Cab     ATLANTA GA   \n",
       "1            10000012           42375    Pink Cab     ATLANTA GA   \n",
       "2            10000013           42371    Pink Cab     ATLANTA GA   \n",
       "3            10000014           42376    Pink Cab     ATLANTA GA   \n",
       "4            10000015           42372    Pink Cab     ATLANTA GA   \n",
       "...               ...             ...         ...            ...   \n",
       "359387       10440101           43108  Yellow Cab  WASHINGTON DC   \n",
       "359388       10440104           43104  Yellow Cab  WASHINGTON DC   \n",
       "359389       10440105           43105  Yellow Cab  WASHINGTON DC   \n",
       "359390       10440106           43105  Yellow Cab  WASHINGTON DC   \n",
       "359391       10440107           43102  Yellow Cab  WASHINGTON DC   \n",
       "\n",
       "        KM_Travelled  Price_Charged  Cost_of_Trip Customer_ID Payment_Mode  \\\n",
       "0              30.45         370.95      313.6350       29290         Card   \n",
       "1              28.62         358.52      334.8540       27703         Card   \n",
       "2               9.04         125.20       97.6320       28712         Cash   \n",
       "3              33.17         377.40      351.6020       28020         Cash   \n",
       "4               8.73         114.62       97.7760       27182         Card   \n",
       "...              ...            ...           ...         ...          ...   \n",
       "359387          4.80          69.24       63.3600       52392         Cash   \n",
       "359388          8.40         113.75      106.8480       53286         Cash   \n",
       "359389         27.75         437.07      349.6500       52265         Cash   \n",
       "359390          8.80         146.19      114.0480       52175         Card   \n",
       "359391         12.76         191.58      177.6192       52917         Card   \n",
       "\n",
       "       Gender  Age  Income_(USD/Month)   Profit  \n",
       "0        Male   28               10813  57.3150  \n",
       "1        Male   27                9237  23.6660  \n",
       "2        Male   53               11242  27.5680  \n",
       "3        Male   23               23327  25.7980  \n",
       "4        Male   33                8536  16.8440  \n",
       "...       ...  ...                 ...      ...  \n",
       "359387   Male   24               15651   5.8800  \n",
       "359388   Male   32                6528   6.9020  \n",
       "359389   Male   56                7966  87.4200  \n",
       "359390   Male   32                6423  32.1420  \n",
       "359391   Male   20               11284  13.9608  \n",
       "\n",
       "[359392 rows x 13 columns]"
      ]
     },
     "execution_count": 49,
     "metadata": {},
     "output_type": "execute_result"
    }
   ],
   "source": [
    "master_dataset['Profit'] = master_dataset.Price_Charged - master_dataset.Cost_of_Trip\n",
    "master_dataset"
   ]
  },
  {
   "cell_type": "markdown",
   "id": "c3d57567",
   "metadata": {},
   "source": [
    "### Profit rate"
   ]
  },
  {
   "cell_type": "code",
   "execution_count": 50,
   "id": "0e941ffb",
   "metadata": {},
   "outputs": [
    {
     "data": {
      "text/html": [
       "<div>\n",
       "<style scoped>\n",
       "    .dataframe tbody tr th:only-of-type {\n",
       "        vertical-align: middle;\n",
       "    }\n",
       "\n",
       "    .dataframe tbody tr th {\n",
       "        vertical-align: top;\n",
       "    }\n",
       "\n",
       "    .dataframe thead th {\n",
       "        text-align: right;\n",
       "    }\n",
       "</style>\n",
       "<table border=\"1\" class=\"dataframe\">\n",
       "  <thead>\n",
       "    <tr style=\"text-align: right;\">\n",
       "      <th></th>\n",
       "      <th>Transaction_ID</th>\n",
       "      <th>Date_of_Travel</th>\n",
       "      <th>Company</th>\n",
       "      <th>City</th>\n",
       "      <th>KM_Travelled</th>\n",
       "      <th>Price_Charged</th>\n",
       "      <th>Cost_of_Trip</th>\n",
       "      <th>Customer_ID</th>\n",
       "      <th>Payment_Mode</th>\n",
       "      <th>Gender</th>\n",
       "      <th>Age</th>\n",
       "      <th>Income_(USD/Month)</th>\n",
       "      <th>Profit</th>\n",
       "      <th>Profit_rate</th>\n",
       "    </tr>\n",
       "  </thead>\n",
       "  <tbody>\n",
       "    <tr>\n",
       "      <th>0</th>\n",
       "      <td>10000011</td>\n",
       "      <td>42377</td>\n",
       "      <td>Pink Cab</td>\n",
       "      <td>ATLANTA GA</td>\n",
       "      <td>30.45</td>\n",
       "      <td>370.95</td>\n",
       "      <td>313.6350</td>\n",
       "      <td>29290</td>\n",
       "      <td>Card</td>\n",
       "      <td>Male</td>\n",
       "      <td>28</td>\n",
       "      <td>10813</td>\n",
       "      <td>57.3150</td>\n",
       "      <td>15.450869</td>\n",
       "    </tr>\n",
       "    <tr>\n",
       "      <th>1</th>\n",
       "      <td>10000012</td>\n",
       "      <td>42375</td>\n",
       "      <td>Pink Cab</td>\n",
       "      <td>ATLANTA GA</td>\n",
       "      <td>28.62</td>\n",
       "      <td>358.52</td>\n",
       "      <td>334.8540</td>\n",
       "      <td>27703</td>\n",
       "      <td>Card</td>\n",
       "      <td>Male</td>\n",
       "      <td>27</td>\n",
       "      <td>9237</td>\n",
       "      <td>23.6660</td>\n",
       "      <td>6.601026</td>\n",
       "    </tr>\n",
       "    <tr>\n",
       "      <th>2</th>\n",
       "      <td>10000013</td>\n",
       "      <td>42371</td>\n",
       "      <td>Pink Cab</td>\n",
       "      <td>ATLANTA GA</td>\n",
       "      <td>9.04</td>\n",
       "      <td>125.20</td>\n",
       "      <td>97.6320</td>\n",
       "      <td>28712</td>\n",
       "      <td>Cash</td>\n",
       "      <td>Male</td>\n",
       "      <td>53</td>\n",
       "      <td>11242</td>\n",
       "      <td>27.5680</td>\n",
       "      <td>22.019169</td>\n",
       "    </tr>\n",
       "    <tr>\n",
       "      <th>3</th>\n",
       "      <td>10000014</td>\n",
       "      <td>42376</td>\n",
       "      <td>Pink Cab</td>\n",
       "      <td>ATLANTA GA</td>\n",
       "      <td>33.17</td>\n",
       "      <td>377.40</td>\n",
       "      <td>351.6020</td>\n",
       "      <td>28020</td>\n",
       "      <td>Cash</td>\n",
       "      <td>Male</td>\n",
       "      <td>23</td>\n",
       "      <td>23327</td>\n",
       "      <td>25.7980</td>\n",
       "      <td>6.835718</td>\n",
       "    </tr>\n",
       "    <tr>\n",
       "      <th>4</th>\n",
       "      <td>10000015</td>\n",
       "      <td>42372</td>\n",
       "      <td>Pink Cab</td>\n",
       "      <td>ATLANTA GA</td>\n",
       "      <td>8.73</td>\n",
       "      <td>114.62</td>\n",
       "      <td>97.7760</td>\n",
       "      <td>27182</td>\n",
       "      <td>Card</td>\n",
       "      <td>Male</td>\n",
       "      <td>33</td>\n",
       "      <td>8536</td>\n",
       "      <td>16.8440</td>\n",
       "      <td>14.695516</td>\n",
       "    </tr>\n",
       "    <tr>\n",
       "      <th>...</th>\n",
       "      <td>...</td>\n",
       "      <td>...</td>\n",
       "      <td>...</td>\n",
       "      <td>...</td>\n",
       "      <td>...</td>\n",
       "      <td>...</td>\n",
       "      <td>...</td>\n",
       "      <td>...</td>\n",
       "      <td>...</td>\n",
       "      <td>...</td>\n",
       "      <td>...</td>\n",
       "      <td>...</td>\n",
       "      <td>...</td>\n",
       "      <td>...</td>\n",
       "    </tr>\n",
       "    <tr>\n",
       "      <th>359387</th>\n",
       "      <td>10440101</td>\n",
       "      <td>43108</td>\n",
       "      <td>Yellow Cab</td>\n",
       "      <td>WASHINGTON DC</td>\n",
       "      <td>4.80</td>\n",
       "      <td>69.24</td>\n",
       "      <td>63.3600</td>\n",
       "      <td>52392</td>\n",
       "      <td>Cash</td>\n",
       "      <td>Male</td>\n",
       "      <td>24</td>\n",
       "      <td>15651</td>\n",
       "      <td>5.8800</td>\n",
       "      <td>8.492201</td>\n",
       "    </tr>\n",
       "    <tr>\n",
       "      <th>359388</th>\n",
       "      <td>10440104</td>\n",
       "      <td>43104</td>\n",
       "      <td>Yellow Cab</td>\n",
       "      <td>WASHINGTON DC</td>\n",
       "      <td>8.40</td>\n",
       "      <td>113.75</td>\n",
       "      <td>106.8480</td>\n",
       "      <td>53286</td>\n",
       "      <td>Cash</td>\n",
       "      <td>Male</td>\n",
       "      <td>32</td>\n",
       "      <td>6528</td>\n",
       "      <td>6.9020</td>\n",
       "      <td>6.067692</td>\n",
       "    </tr>\n",
       "    <tr>\n",
       "      <th>359389</th>\n",
       "      <td>10440105</td>\n",
       "      <td>43105</td>\n",
       "      <td>Yellow Cab</td>\n",
       "      <td>WASHINGTON DC</td>\n",
       "      <td>27.75</td>\n",
       "      <td>437.07</td>\n",
       "      <td>349.6500</td>\n",
       "      <td>52265</td>\n",
       "      <td>Cash</td>\n",
       "      <td>Male</td>\n",
       "      <td>56</td>\n",
       "      <td>7966</td>\n",
       "      <td>87.4200</td>\n",
       "      <td>20.001373</td>\n",
       "    </tr>\n",
       "    <tr>\n",
       "      <th>359390</th>\n",
       "      <td>10440106</td>\n",
       "      <td>43105</td>\n",
       "      <td>Yellow Cab</td>\n",
       "      <td>WASHINGTON DC</td>\n",
       "      <td>8.80</td>\n",
       "      <td>146.19</td>\n",
       "      <td>114.0480</td>\n",
       "      <td>52175</td>\n",
       "      <td>Card</td>\n",
       "      <td>Male</td>\n",
       "      <td>32</td>\n",
       "      <td>6423</td>\n",
       "      <td>32.1420</td>\n",
       "      <td>21.986456</td>\n",
       "    </tr>\n",
       "    <tr>\n",
       "      <th>359391</th>\n",
       "      <td>10440107</td>\n",
       "      <td>43102</td>\n",
       "      <td>Yellow Cab</td>\n",
       "      <td>WASHINGTON DC</td>\n",
       "      <td>12.76</td>\n",
       "      <td>191.58</td>\n",
       "      <td>177.6192</td>\n",
       "      <td>52917</td>\n",
       "      <td>Card</td>\n",
       "      <td>Male</td>\n",
       "      <td>20</td>\n",
       "      <td>11284</td>\n",
       "      <td>13.9608</td>\n",
       "      <td>7.287191</td>\n",
       "    </tr>\n",
       "  </tbody>\n",
       "</table>\n",
       "<p>359392 rows × 14 columns</p>\n",
       "</div>"
      ],
      "text/plain": [
       "       Transaction_ID  Date_of_Travel     Company           City  \\\n",
       "0            10000011           42377    Pink Cab     ATLANTA GA   \n",
       "1            10000012           42375    Pink Cab     ATLANTA GA   \n",
       "2            10000013           42371    Pink Cab     ATLANTA GA   \n",
       "3            10000014           42376    Pink Cab     ATLANTA GA   \n",
       "4            10000015           42372    Pink Cab     ATLANTA GA   \n",
       "...               ...             ...         ...            ...   \n",
       "359387       10440101           43108  Yellow Cab  WASHINGTON DC   \n",
       "359388       10440104           43104  Yellow Cab  WASHINGTON DC   \n",
       "359389       10440105           43105  Yellow Cab  WASHINGTON DC   \n",
       "359390       10440106           43105  Yellow Cab  WASHINGTON DC   \n",
       "359391       10440107           43102  Yellow Cab  WASHINGTON DC   \n",
       "\n",
       "        KM_Travelled  Price_Charged  Cost_of_Trip Customer_ID Payment_Mode  \\\n",
       "0              30.45         370.95      313.6350       29290         Card   \n",
       "1              28.62         358.52      334.8540       27703         Card   \n",
       "2               9.04         125.20       97.6320       28712         Cash   \n",
       "3              33.17         377.40      351.6020       28020         Cash   \n",
       "4               8.73         114.62       97.7760       27182         Card   \n",
       "...              ...            ...           ...         ...          ...   \n",
       "359387          4.80          69.24       63.3600       52392         Cash   \n",
       "359388          8.40         113.75      106.8480       53286         Cash   \n",
       "359389         27.75         437.07      349.6500       52265         Cash   \n",
       "359390          8.80         146.19      114.0480       52175         Card   \n",
       "359391         12.76         191.58      177.6192       52917         Card   \n",
       "\n",
       "       Gender  Age  Income_(USD/Month)   Profit  Profit_rate  \n",
       "0        Male   28               10813  57.3150    15.450869  \n",
       "1        Male   27                9237  23.6660     6.601026  \n",
       "2        Male   53               11242  27.5680    22.019169  \n",
       "3        Male   23               23327  25.7980     6.835718  \n",
       "4        Male   33                8536  16.8440    14.695516  \n",
       "...       ...  ...                 ...      ...          ...  \n",
       "359387   Male   24               15651   5.8800     8.492201  \n",
       "359388   Male   32                6528   6.9020     6.067692  \n",
       "359389   Male   56                7966  87.4200    20.001373  \n",
       "359390   Male   32                6423  32.1420    21.986456  \n",
       "359391   Male   20               11284  13.9608     7.287191  \n",
       "\n",
       "[359392 rows x 14 columns]"
      ]
     },
     "execution_count": 50,
     "metadata": {},
     "output_type": "execute_result"
    }
   ],
   "source": [
    "master_dataset['Profit_rate']=(master_dataset.Profit/master_dataset.Price_Charged)*100\n",
    "master_dataset"
   ]
  },
  {
   "cell_type": "markdown",
   "id": "a85ce01b",
   "metadata": {},
   "source": [
    "### Age categories"
   ]
  },
  {
   "cell_type": "code",
   "execution_count": 51,
   "id": "f45222fb",
   "metadata": {},
   "outputs": [
    {
     "name": "stdout",
     "output_type": "stream",
     "text": [
      "Max Age = 65 \n",
      "min Age = 18 \n",
      "Each catg width = 16\n"
     ]
    }
   ],
   "source": [
    "max_age=master_dataset.Age.max()\n",
    "min_age=master_dataset.Age.min()\n",
    "age_catg_width=round((max_age-min_age)/3.0)\n",
    "print('Max Age =', max_age, '\\nmin Age =', min_age, '\\nEach catg width =', age_catg_width)"
   ]
  },
  {
   "cell_type": "code",
   "execution_count": 52,
   "id": "7c93259d",
   "metadata": {},
   "outputs": [
    {
     "data": {
      "text/html": [
       "<div>\n",
       "<style scoped>\n",
       "    .dataframe tbody tr th:only-of-type {\n",
       "        vertical-align: middle;\n",
       "    }\n",
       "\n",
       "    .dataframe tbody tr th {\n",
       "        vertical-align: top;\n",
       "    }\n",
       "\n",
       "    .dataframe thead th {\n",
       "        text-align: right;\n",
       "    }\n",
       "</style>\n",
       "<table border=\"1\" class=\"dataframe\">\n",
       "  <thead>\n",
       "    <tr style=\"text-align: right;\">\n",
       "      <th></th>\n",
       "      <th>Transaction_ID</th>\n",
       "      <th>Date_of_Travel</th>\n",
       "      <th>Company</th>\n",
       "      <th>City</th>\n",
       "      <th>KM_Travelled</th>\n",
       "      <th>Price_Charged</th>\n",
       "      <th>Cost_of_Trip</th>\n",
       "      <th>Customer_ID</th>\n",
       "      <th>Payment_Mode</th>\n",
       "      <th>Gender</th>\n",
       "      <th>Age</th>\n",
       "      <th>Income_(USD/Month)</th>\n",
       "      <th>Profit</th>\n",
       "      <th>Profit_rate</th>\n",
       "      <th>Age_catg</th>\n",
       "    </tr>\n",
       "  </thead>\n",
       "  <tbody>\n",
       "    <tr>\n",
       "      <th>0</th>\n",
       "      <td>10000011</td>\n",
       "      <td>42377</td>\n",
       "      <td>Pink Cab</td>\n",
       "      <td>ATLANTA GA</td>\n",
       "      <td>30.45</td>\n",
       "      <td>370.95</td>\n",
       "      <td>313.6350</td>\n",
       "      <td>29290</td>\n",
       "      <td>Card</td>\n",
       "      <td>Male</td>\n",
       "      <td>28</td>\n",
       "      <td>10813</td>\n",
       "      <td>57.3150</td>\n",
       "      <td>15.450869</td>\n",
       "      <td>18_34</td>\n",
       "    </tr>\n",
       "    <tr>\n",
       "      <th>1</th>\n",
       "      <td>10000012</td>\n",
       "      <td>42375</td>\n",
       "      <td>Pink Cab</td>\n",
       "      <td>ATLANTA GA</td>\n",
       "      <td>28.62</td>\n",
       "      <td>358.52</td>\n",
       "      <td>334.8540</td>\n",
       "      <td>27703</td>\n",
       "      <td>Card</td>\n",
       "      <td>Male</td>\n",
       "      <td>27</td>\n",
       "      <td>9237</td>\n",
       "      <td>23.6660</td>\n",
       "      <td>6.601026</td>\n",
       "      <td>18_34</td>\n",
       "    </tr>\n",
       "    <tr>\n",
       "      <th>2</th>\n",
       "      <td>10000013</td>\n",
       "      <td>42371</td>\n",
       "      <td>Pink Cab</td>\n",
       "      <td>ATLANTA GA</td>\n",
       "      <td>9.04</td>\n",
       "      <td>125.20</td>\n",
       "      <td>97.6320</td>\n",
       "      <td>28712</td>\n",
       "      <td>Cash</td>\n",
       "      <td>Male</td>\n",
       "      <td>53</td>\n",
       "      <td>11242</td>\n",
       "      <td>27.5680</td>\n",
       "      <td>22.019169</td>\n",
       "      <td>50_65</td>\n",
       "    </tr>\n",
       "    <tr>\n",
       "      <th>3</th>\n",
       "      <td>10000014</td>\n",
       "      <td>42376</td>\n",
       "      <td>Pink Cab</td>\n",
       "      <td>ATLANTA GA</td>\n",
       "      <td>33.17</td>\n",
       "      <td>377.40</td>\n",
       "      <td>351.6020</td>\n",
       "      <td>28020</td>\n",
       "      <td>Cash</td>\n",
       "      <td>Male</td>\n",
       "      <td>23</td>\n",
       "      <td>23327</td>\n",
       "      <td>25.7980</td>\n",
       "      <td>6.835718</td>\n",
       "      <td>18_34</td>\n",
       "    </tr>\n",
       "    <tr>\n",
       "      <th>4</th>\n",
       "      <td>10000015</td>\n",
       "      <td>42372</td>\n",
       "      <td>Pink Cab</td>\n",
       "      <td>ATLANTA GA</td>\n",
       "      <td>8.73</td>\n",
       "      <td>114.62</td>\n",
       "      <td>97.7760</td>\n",
       "      <td>27182</td>\n",
       "      <td>Card</td>\n",
       "      <td>Male</td>\n",
       "      <td>33</td>\n",
       "      <td>8536</td>\n",
       "      <td>16.8440</td>\n",
       "      <td>14.695516</td>\n",
       "      <td>18_34</td>\n",
       "    </tr>\n",
       "    <tr>\n",
       "      <th>...</th>\n",
       "      <td>...</td>\n",
       "      <td>...</td>\n",
       "      <td>...</td>\n",
       "      <td>...</td>\n",
       "      <td>...</td>\n",
       "      <td>...</td>\n",
       "      <td>...</td>\n",
       "      <td>...</td>\n",
       "      <td>...</td>\n",
       "      <td>...</td>\n",
       "      <td>...</td>\n",
       "      <td>...</td>\n",
       "      <td>...</td>\n",
       "      <td>...</td>\n",
       "      <td>...</td>\n",
       "    </tr>\n",
       "    <tr>\n",
       "      <th>359387</th>\n",
       "      <td>10440101</td>\n",
       "      <td>43108</td>\n",
       "      <td>Yellow Cab</td>\n",
       "      <td>WASHINGTON DC</td>\n",
       "      <td>4.80</td>\n",
       "      <td>69.24</td>\n",
       "      <td>63.3600</td>\n",
       "      <td>52392</td>\n",
       "      <td>Cash</td>\n",
       "      <td>Male</td>\n",
       "      <td>24</td>\n",
       "      <td>15651</td>\n",
       "      <td>5.8800</td>\n",
       "      <td>8.492201</td>\n",
       "      <td>18_34</td>\n",
       "    </tr>\n",
       "    <tr>\n",
       "      <th>359388</th>\n",
       "      <td>10440104</td>\n",
       "      <td>43104</td>\n",
       "      <td>Yellow Cab</td>\n",
       "      <td>WASHINGTON DC</td>\n",
       "      <td>8.40</td>\n",
       "      <td>113.75</td>\n",
       "      <td>106.8480</td>\n",
       "      <td>53286</td>\n",
       "      <td>Cash</td>\n",
       "      <td>Male</td>\n",
       "      <td>32</td>\n",
       "      <td>6528</td>\n",
       "      <td>6.9020</td>\n",
       "      <td>6.067692</td>\n",
       "      <td>18_34</td>\n",
       "    </tr>\n",
       "    <tr>\n",
       "      <th>359389</th>\n",
       "      <td>10440105</td>\n",
       "      <td>43105</td>\n",
       "      <td>Yellow Cab</td>\n",
       "      <td>WASHINGTON DC</td>\n",
       "      <td>27.75</td>\n",
       "      <td>437.07</td>\n",
       "      <td>349.6500</td>\n",
       "      <td>52265</td>\n",
       "      <td>Cash</td>\n",
       "      <td>Male</td>\n",
       "      <td>56</td>\n",
       "      <td>7966</td>\n",
       "      <td>87.4200</td>\n",
       "      <td>20.001373</td>\n",
       "      <td>50_65</td>\n",
       "    </tr>\n",
       "    <tr>\n",
       "      <th>359390</th>\n",
       "      <td>10440106</td>\n",
       "      <td>43105</td>\n",
       "      <td>Yellow Cab</td>\n",
       "      <td>WASHINGTON DC</td>\n",
       "      <td>8.80</td>\n",
       "      <td>146.19</td>\n",
       "      <td>114.0480</td>\n",
       "      <td>52175</td>\n",
       "      <td>Card</td>\n",
       "      <td>Male</td>\n",
       "      <td>32</td>\n",
       "      <td>6423</td>\n",
       "      <td>32.1420</td>\n",
       "      <td>21.986456</td>\n",
       "      <td>18_34</td>\n",
       "    </tr>\n",
       "    <tr>\n",
       "      <th>359391</th>\n",
       "      <td>10440107</td>\n",
       "      <td>43102</td>\n",
       "      <td>Yellow Cab</td>\n",
       "      <td>WASHINGTON DC</td>\n",
       "      <td>12.76</td>\n",
       "      <td>191.58</td>\n",
       "      <td>177.6192</td>\n",
       "      <td>52917</td>\n",
       "      <td>Card</td>\n",
       "      <td>Male</td>\n",
       "      <td>20</td>\n",
       "      <td>11284</td>\n",
       "      <td>13.9608</td>\n",
       "      <td>7.287191</td>\n",
       "      <td>18_34</td>\n",
       "    </tr>\n",
       "  </tbody>\n",
       "</table>\n",
       "<p>359392 rows × 15 columns</p>\n",
       "</div>"
      ],
      "text/plain": [
       "       Transaction_ID  Date_of_Travel     Company           City  \\\n",
       "0            10000011           42377    Pink Cab     ATLANTA GA   \n",
       "1            10000012           42375    Pink Cab     ATLANTA GA   \n",
       "2            10000013           42371    Pink Cab     ATLANTA GA   \n",
       "3            10000014           42376    Pink Cab     ATLANTA GA   \n",
       "4            10000015           42372    Pink Cab     ATLANTA GA   \n",
       "...               ...             ...         ...            ...   \n",
       "359387       10440101           43108  Yellow Cab  WASHINGTON DC   \n",
       "359388       10440104           43104  Yellow Cab  WASHINGTON DC   \n",
       "359389       10440105           43105  Yellow Cab  WASHINGTON DC   \n",
       "359390       10440106           43105  Yellow Cab  WASHINGTON DC   \n",
       "359391       10440107           43102  Yellow Cab  WASHINGTON DC   \n",
       "\n",
       "        KM_Travelled  Price_Charged  Cost_of_Trip Customer_ID Payment_Mode  \\\n",
       "0              30.45         370.95      313.6350       29290         Card   \n",
       "1              28.62         358.52      334.8540       27703         Card   \n",
       "2               9.04         125.20       97.6320       28712         Cash   \n",
       "3              33.17         377.40      351.6020       28020         Cash   \n",
       "4               8.73         114.62       97.7760       27182         Card   \n",
       "...              ...            ...           ...         ...          ...   \n",
       "359387          4.80          69.24       63.3600       52392         Cash   \n",
       "359388          8.40         113.75      106.8480       53286         Cash   \n",
       "359389         27.75         437.07      349.6500       52265         Cash   \n",
       "359390          8.80         146.19      114.0480       52175         Card   \n",
       "359391         12.76         191.58      177.6192       52917         Card   \n",
       "\n",
       "       Gender  Age  Income_(USD/Month)   Profit  Profit_rate Age_catg  \n",
       "0        Male   28               10813  57.3150    15.450869    18_34  \n",
       "1        Male   27                9237  23.6660     6.601026    18_34  \n",
       "2        Male   53               11242  27.5680    22.019169    50_65  \n",
       "3        Male   23               23327  25.7980     6.835718    18_34  \n",
       "4        Male   33                8536  16.8440    14.695516    18_34  \n",
       "...       ...  ...                 ...      ...          ...      ...  \n",
       "359387   Male   24               15651   5.8800     8.492201    18_34  \n",
       "359388   Male   32                6528   6.9020     6.067692    18_34  \n",
       "359389   Male   56                7966  87.4200    20.001373    50_65  \n",
       "359390   Male   32                6423  32.1420    21.986456    18_34  \n",
       "359391   Male   20               11284  13.9608     7.287191    18_34  \n",
       "\n",
       "[359392 rows x 15 columns]"
      ]
     },
     "execution_count": 52,
     "metadata": {},
     "output_type": "execute_result"
    }
   ],
   "source": [
    "bin_1=min_age+age_catg_width\n",
    "bin_2= min_age+(2*age_catg_width)\n",
    "\n",
    "master_dataset['Age_catg']=pd.cut(master_dataset['Age'], \n",
    "      bins=[min_age-1, bin_1, bin_2, max_age],\n",
    "      labels=[str(min_age)+'_'+str(bin_1), str(bin_1)+'_'+str(bin_2), str(bin_2)+'_'+str(max_age)]\n",
    "      )\n",
    "\n",
    "master_dataset"
   ]
  },
  {
   "cell_type": "markdown",
   "id": "f968178f",
   "metadata": {},
   "source": [
    "### Income categories"
   ]
  },
  {
   "cell_type": "code",
   "execution_count": 53,
   "id": "b48e82cd",
   "metadata": {},
   "outputs": [
    {
     "name": "stdout",
     "output_type": "stream",
     "text": [
      "Max income = 35000 \n",
      "min income = 2000 \n",
      "Each catg width = 11000.0\n"
     ]
    }
   ],
   "source": [
    "max_incom=master_dataset['Income_(USD/Month)'].max()\n",
    "min_incom=master_dataset['Income_(USD/Month)'].min()\n",
    "incom_catg_width=(max_incom-min_incom)/3.0\n",
    "print('Max income =', max_incom, '\\nmin income =', min_incom, '\\nEach catg width =', incom_catg_width)"
   ]
  },
  {
   "cell_type": "code",
   "execution_count": 54,
   "id": "3724afbd",
   "metadata": {},
   "outputs": [
    {
     "data": {
      "text/plain": [
       "<pandas.core.indexing._LocIndexer at 0x2703a261bd0>"
      ]
     },
     "execution_count": 54,
     "metadata": {},
     "output_type": "execute_result"
    }
   ],
   "source": [
    "master_dataset['Incom_catg']=pd.cut(master_dataset['Income_(USD/Month)'], \n",
    "      bins=[min_incom-1, min_incom+incom_catg_width, min_incom+(2*incom_catg_width), max_incom],\n",
    "      labels=['Low incom', 'Avg incom', 'High incom']\n",
    "      )\n",
    "master_dataset.loc('Age'==34)\n"
   ]
  },
  {
   "cell_type": "code",
   "execution_count": 55,
   "id": "65424bef",
   "metadata": {},
   "outputs": [
    {
     "data": {
      "text/plain": [
       "Transaction_ID        0\n",
       "Date_of_Travel        0\n",
       "Company               0\n",
       "City                  0\n",
       "KM_Travelled          0\n",
       "Price_Charged         0\n",
       "Cost_of_Trip          0\n",
       "Customer_ID           0\n",
       "Payment_Mode          0\n",
       "Gender                0\n",
       "Age                   0\n",
       "Income_(USD/Month)    0\n",
       "Profit                0\n",
       "Profit_rate           0\n",
       "Age_catg              0\n",
       "Incom_catg            0\n",
       "dtype: int64"
      ]
     },
     "execution_count": 55,
     "metadata": {},
     "output_type": "execute_result"
    }
   ],
   "source": [
    "master_dataset.isnull().sum()"
   ]
  },
  {
   "cell_type": "code",
   "execution_count": 56,
   "id": "3e7c1eae",
   "metadata": {},
   "outputs": [
    {
     "data": {
      "text/plain": [
       "(359392, 16)"
      ]
     },
     "execution_count": 56,
     "metadata": {},
     "output_type": "execute_result"
    }
   ],
   "source": [
    "master_dataset.shape"
   ]
  },
  {
   "cell_type": "markdown",
   "id": "fab58aa3",
   "metadata": {},
   "source": [
    "Currently in master_dataset ther are **16 featurs** for each ride **\"359392 uniqe rides\"**"
   ]
  },
  {
   "cell_type": "markdown",
   "id": "2dc793ca",
   "metadata": {},
   "source": [
    "## Assuming Hypotheses"
   ]
  },
  {
   "cell_type": "markdown",
   "id": "f3fa2831",
   "metadata": {},
   "source": [
    "### Number Of Rides For Each Company/City"
   ]
  },
  {
   "cell_type": "markdown",
   "id": "eaf42089",
   "metadata": {},
   "source": [
    "Is ther significant deference between number of rides of each company among deferent cities?"
   ]
  },
  {
   "cell_type": "code",
   "execution_count": 57,
   "id": "4657b7e7",
   "metadata": {},
   "outputs": [
    {
     "data": {
      "image/png": "[encoded data removed]",
      "text/plain": [
       "<Figure size 1000x600 with 1 Axes>"
      ]
     },
     "metadata": {},
     "output_type": "display_data"
    }
   ],
   "source": [
    "ax=sns.countplot(data=master_dataset, x=master_dataset.City, hue=master_dataset.Company, \n",
    "                 order=master_dataset.City.value_counts(ascending=False).index);\n",
    "\n",
    "ax.set_xticklabels(ax.get_xticklabels(), rotation=90);\n",
    "\n",
    "ax.set_title(\"Number Of Rides For Each Company\");"
   ]
  },
  {
   "cell_type": "markdown",
   "id": "e54fb455",
   "metadata": {},
   "source": [
    "The chart shows that Yellow Cab company have higher number of rides in most cities"
   ]
  },
  {
   "cell_type": "markdown",
   "id": "56b28942",
   "metadata": {},
   "source": [
    "### Total Profit For Each Company"
   ]
  },
  {
   "cell_type": "markdown",
   "id": "28c99aee",
   "metadata": {},
   "source": [
    "Is ther significant deference company's profits?"
   ]
  },
  {
   "cell_type": "code",
   "execution_count": 58,
   "id": "e55c8af3",
   "metadata": {},
   "outputs": [
    {
     "data": {
      "image/png": "[encoded data removed]",
      "text/plain": [
       "<Figure size 1000x600 with 1 Axes>"
      ]
     },
     "metadata": {},
     "output_type": "display_data"
    }
   ],
   "source": [
    "pink_cab_profit=master_dataset.query(\"Company=='Pink Cab'\")['Profit'].sum()\n",
    "\n",
    "yellow_cab_profit=master_dataset.query(\"Company=='Yellow Cab'\")['Profit'].sum()\n",
    "\n",
    "y=np.array([pink_cab_profit, yellow_cab_profit])\n",
    "\n",
    "plt.pie(y, labels=['Pink Cab profit', 'Yellow Cab Profit'], autopct='% 1.2f %%');\n",
    "plt.title(\"Total Profit Of Each Company\");"
   ]
  },
  {
   "cell_type": "markdown",
   "id": "6a296ec6",
   "metadata": {},
   "source": [
    "The chart shows that Yellow Cab company makes almost 9 times more profit than Pinc Cab company."
   ]
  },
  {
   "cell_type": "markdown",
   "id": "68808ec3",
   "metadata": {},
   "source": [
    "### Avrge Profit Rate Of Each Company"
   ]
  },
  {
   "cell_type": "markdown",
   "id": "77ec67fe",
   "metadata": {},
   "source": [
    "Is there a significant deference between profit avrge of each company among deferent cities?"
   ]
  },
  {
   "cell_type": "code",
   "execution_count": 59,
   "id": "e2e4ce82",
   "metadata": {},
   "outputs": [
    {
     "data": {
      "image/png": "[encoded data removed]",
      "text/plain": [
       "<Figure size 1000x600 with 1 Axes>"
      ]
     },
     "metadata": {},
     "output_type": "display_data"
    }
   ],
   "source": [
    "pink_cab_profit=master_dataset.query(\"Company=='Pink Cab'\")['Profit_rate'].mean()\n",
    "\n",
    "yellow_cab_profit=master_dataset.query(\"Company=='Yellow Cab'\")['Profit_rate'].mean()\n",
    "\n",
    "y=np.array([pink_cab_profit, yellow_cab_profit])\n",
    "\n",
    "plt.pie(y, labels=['Pink Cab profit', 'Yellow Cab Profit'], autopct='% 1.2f %%');\n",
    "plt.title(\"Avrge Profit Of Each Company\");"
   ]
  },
  {
   "cell_type": "markdown",
   "id": "2972049d",
   "metadata": {},
   "source": [
    "Yellow Cab company's profit avrge is 2 times that Pinc Cab."
   ]
  },
  {
   "cell_type": "markdown",
   "id": "5ed4b4f0",
   "metadata": {},
   "source": [
    "### Number Of Users For Each Company/City"
   ]
  },
  {
   "cell_type": "markdown",
   "id": "bdc6fa1a",
   "metadata": {},
   "source": [
    "Are there different preferences in different cities?"
   ]
  },
  {
   "cell_type": "code",
   "execution_count": 60,
   "id": "18255fee",
   "metadata": {},
   "outputs": [
    {
     "data": {
      "text/plain": [
       "287166"
      ]
     },
     "execution_count": 60,
     "metadata": {},
     "output_type": "execute_result"
    }
   ],
   "source": [
    "users_set=master_dataset[['Customer_ID', 'Gender', 'Age_catg', 'Incom_catg', 'Company', 'City']]\n",
    "users_set.duplicated().sum()\n"
   ]
  },
  {
   "cell_type": "code",
   "execution_count": 61,
   "id": "80832195",
   "metadata": {},
   "outputs": [
    {
     "data": {
      "text/plain": [
       "0"
      ]
     },
     "execution_count": 61,
     "metadata": {},
     "output_type": "execute_result"
    }
   ],
   "source": [
    "users_set=users_set.drop_duplicates()\n",
    "users_set.duplicated().sum()"
   ]
  },
  {
   "cell_type": "code",
   "execution_count": 62,
   "id": "b24d5136",
   "metadata": {},
   "outputs": [
    {
     "data": {
      "image/png": "[encoded data removed]",
      "text/plain": [
       "<Figure size 1000x600 with 1 Axes>"
      ]
     },
     "metadata": {},
     "output_type": "display_data"
    }
   ],
   "source": [
    "ax=sns.countplot(data=users_set, x=users_set.City, hue=users_set.Company,\n",
    "                 order=master_dataset.City.value_counts().index);\n",
    "\n",
    "ax.set_xticklabels(ax.get_xticklabels(), rotation=90);\n",
    "ax.set_title(\"Number Of Users For Each Company/City\");"
   ]
  },
  {
   "cell_type": "markdown",
   "id": "b89ae528",
   "metadata": {},
   "source": [
    "Most users in most cities prefer Yellow Cab company"
   ]
  },
  {
   "cell_type": "markdown",
   "id": "ae709055",
   "metadata": {},
   "source": [
    "### Total Number Of Users For Each Company"
   ]
  },
  {
   "cell_type": "markdown",
   "id": "a905df58",
   "metadata": {},
   "source": [
    "Is ther a significant deference between number of users of each company?"
   ]
  },
  {
   "cell_type": "code",
   "execution_count": 63,
   "id": "49bda1f9",
   "metadata": {
    "scrolled": false
   },
   "outputs": [
    {
     "data": {
      "image/png": "[encoded data removed]",
      "text/plain": [
       "<Figure size 1000x600 with 1 Axes>"
      ]
     },
     "metadata": {},
     "output_type": "display_data"
    }
   ],
   "source": [
    "ax=sns.countplot(data=users_set, x=users_set.Company)\n",
    "ax.set_title(\"Total Number Of Users For Each Company\");"
   ]
  },
  {
   "cell_type": "markdown",
   "id": "ddc8f1e6",
   "metadata": {},
   "source": [
    "Total number of Yellow Cab company users is more than Total number of Pink Cab company users.m"
   ]
  },
  {
   "cell_type": "markdown",
   "id": "4fade579",
   "metadata": {},
   "source": [
    "### Users Gender For Each Company"
   ]
  },
  {
   "cell_type": "markdown",
   "id": "5173d406",
   "metadata": {},
   "source": [
    "Are there different preferences for males and females?"
   ]
  },
  {
   "cell_type": "code",
   "execution_count": 64,
   "id": "01c0754d",
   "metadata": {
    "scrolled": false
   },
   "outputs": [
    {
     "data": {
      "image/png": "[encoded data removed]",
      "text/plain": [
       "<Figure size 1000x600 with 1 Axes>"
      ]
     },
     "metadata": {},
     "output_type": "display_data"
    }
   ],
   "source": [
    "ax=sns.countplot(data=users_set, hue=users_set.Gender, x=users_set.Company);\n",
    "ax.set_title(\"Users Gender For Each Company\");"
   ]
  },
  {
   "cell_type": "code",
   "execution_count": 65,
   "id": "3c5bdc55",
   "metadata": {},
   "outputs": [
    {
     "data": {
      "image/png": "[encoded data removed]",
      "text/plain": [
       "<Figure size 1000x600 with 1 Axes>"
      ]
     },
     "metadata": {},
     "output_type": "display_data"
    }
   ],
   "source": [
    "ax=sns.countplot(data=users_set, x=users_set.Gender, hue=users_set.Company);\n",
    "ax.set_title(\"Users Gender For Each Company\");"
   ]
  },
  {
   "cell_type": "markdown",
   "id": "4973d634",
   "metadata": {},
   "source": [
    "No, The ratio of males and females is similar in both companies."
   ]
  },
  {
   "cell_type": "markdown",
   "id": "961a920e",
   "metadata": {},
   "source": [
    "### Users Age For Each Company"
   ]
  },
  {
   "cell_type": "markdown",
   "id": "0b87e6d1",
   "metadata": {},
   "source": [
    "Are there different preferences for different age groups?"
   ]
  },
  {
   "cell_type": "code",
   "execution_count": 66,
   "id": "20699ed0",
   "metadata": {},
   "outputs": [
    {
     "data": {
      "image/png": "[encoded data removed]",
      "text/plain": [
       "<Figure size 1000x600 with 1 Axes>"
      ]
     },
     "metadata": {},
     "output_type": "display_data"
    }
   ],
   "source": [
    "ax=sns.countplot(data=users_set, x=users_set.Age_catg, hue=users_set.Company);\n",
    "ax.set_title(\"Users Age For Each Company\");"
   ]
  },
  {
   "cell_type": "markdown",
   "id": "b83be39e",
   "metadata": {},
   "source": [
    "Yellow Cab company have the majority of users among all age groups."
   ]
  },
  {
   "cell_type": "markdown",
   "id": "e2ed42bd",
   "metadata": {},
   "source": [
    "### Users Income For Each Company"
   ]
  },
  {
   "cell_type": "markdown",
   "id": "662b08f0",
   "metadata": {},
   "source": [
    "Do customer prefernces differ based on income differences?"
   ]
  },
  {
   "cell_type": "code",
   "execution_count": 67,
   "id": "243ea500",
   "metadata": {},
   "outputs": [
    {
     "data": {
      "image/png": "[encoded data removed]",
      "text/plain": [
       "<Figure size 1000x600 with 1 Axes>"
      ]
     },
     "metadata": {},
     "output_type": "display_data"
    }
   ],
   "source": [
    "ax=sns.countplot(data=users_set, x=users_set['Incom_catg'], hue=users_set.Company);\n",
    "ax.set_title(\"Users Income For Each Company\");"
   ]
  },
  {
   "cell_type": "markdown",
   "id": "a22ef612",
   "metadata": {},
   "source": [
    "No, the Yellow Cab Company is the preferred choice for people across different income groups."
   ]
  },
  {
   "cell_type": "markdown",
   "id": "e099b3cb",
   "metadata": {},
   "source": [
    "### Freaquent Castomer For Each Campany"
   ]
  },
  {
   "cell_type": "markdown",
   "id": "990c90bc",
   "metadata": {},
   "source": [
    "Do customers tend to repeat their experiences? If so, which company has the highest rate of repeat customers?"
   ]
  },
  {
   "cell_type": "code",
   "execution_count": 68,
   "id": "411c9e16",
   "metadata": {
    "scrolled": true
   },
   "outputs": [
    {
     "data": {
      "text/plain": [
       "Index(['Customer_ID', 'Company', 'Rides_Count'], dtype='object')"
      ]
     },
     "execution_count": 68,
     "metadata": {},
     "output_type": "execute_result"
    }
   ],
   "source": [
    "rides_count=master_dataset.groupby(['Customer_ID','Company'], sort=False)['Transaction_ID'].count().to_frame().reset_index()\n",
    "rides_count=rides_count.rename(columns={'Transaction_ID':'Rides_Count'})\n",
    "rides_count.columns"
   ]
  },
  {
   "cell_type": "code",
   "execution_count": 69,
   "id": "6bc75a14",
   "metadata": {},
   "outputs": [
    {
     "data": {
      "text/plain": [
       "(72226, 3)"
      ]
     },
     "execution_count": 69,
     "metadata": {},
     "output_type": "execute_result"
    }
   ],
   "source": [
    "rides_count.shape\n",
    "\n",
    "# group by 'Customer_ID' = (46148, 2)\n",
    "# group by ['Customer_ID','Company'] = (72226, 3)"
   ]
  },
  {
   "cell_type": "markdown",
   "id": "fc9a9b7b",
   "metadata": {},
   "source": [
    "In this particular case when I grouped the data by Customer_ID I got ~46K rows, while when I grouped by Customer_ID and Company I got ~72K rows. Which means that lots of users \n",
    "- either they are useing the two companys simultaneosly\n",
    "- or they used to use one of the companys then decided to use the other one."
   ]
  },
  {
   "cell_type": "code",
   "execution_count": 70,
   "id": "0f745651",
   "metadata": {
    "scrolled": false
   },
   "outputs": [
    {
     "data": {
      "image/png": "[encoded data removed]",
      "text/plain": [
       "<Figure size 1000x600 with 1 Axes>"
      ]
     },
     "metadata": {},
     "output_type": "display_data"
    }
   ],
   "source": [
    "ax=sns.countplot(data=rides_count, x='Rides_Count', hue=rides_count.Company);\n",
    "ax.set_title(\"Freaquent Castomer For Each Campany\");"
   ]
  },
  {
   "cell_type": "code",
   "execution_count": 71,
   "id": "a15c8d95",
   "metadata": {},
   "outputs": [
    {
     "name": "stdout",
     "output_type": "stream",
     "text": [
      "Max rides = 47 \n",
      "Min rides = 1 \n",
      "Each catg width = 9\n"
     ]
    }
   ],
   "source": [
    "max_rides=rides_count.Rides_Count.max()\n",
    "min_rides=rides_count.Rides_Count.min()\n",
    "rides_catg_width=round((max_rides-min_rides)/5.0)\n",
    "print('Max rides =', max_rides, '\\nMin rides =', min_rides, '\\nEach catg width =', rides_catg_width)"
   ]
  },
  {
   "cell_type": "code",
   "execution_count": 72,
   "id": "1754a05a",
   "metadata": {},
   "outputs": [
    {
     "data": {
      "text/html": [
       "<div>\n",
       "<style scoped>\n",
       "    .dataframe tbody tr th:only-of-type {\n",
       "        vertical-align: middle;\n",
       "    }\n",
       "\n",
       "    .dataframe tbody tr th {\n",
       "        vertical-align: top;\n",
       "    }\n",
       "\n",
       "    .dataframe thead th {\n",
       "        text-align: right;\n",
       "    }\n",
       "</style>\n",
       "<table border=\"1\" class=\"dataframe\">\n",
       "  <thead>\n",
       "    <tr style=\"text-align: right;\">\n",
       "      <th></th>\n",
       "      <th>Customer_ID</th>\n",
       "      <th>Company</th>\n",
       "      <th>Rides_Count</th>\n",
       "      <th>Rides_catg</th>\n",
       "    </tr>\n",
       "  </thead>\n",
       "  <tbody>\n",
       "    <tr>\n",
       "      <th>0</th>\n",
       "      <td>29290</td>\n",
       "      <td>Pink Cab</td>\n",
       "      <td>1</td>\n",
       "      <td>NaN</td>\n",
       "    </tr>\n",
       "    <tr>\n",
       "      <th>1</th>\n",
       "      <td>27703</td>\n",
       "      <td>Pink Cab</td>\n",
       "      <td>2</td>\n",
       "      <td>2_10 rides</td>\n",
       "    </tr>\n",
       "    <tr>\n",
       "      <th>2</th>\n",
       "      <td>28712</td>\n",
       "      <td>Pink Cab</td>\n",
       "      <td>1</td>\n",
       "      <td>NaN</td>\n",
       "    </tr>\n",
       "    <tr>\n",
       "      <th>3</th>\n",
       "      <td>28020</td>\n",
       "      <td>Pink Cab</td>\n",
       "      <td>3</td>\n",
       "      <td>2_10 rides</td>\n",
       "    </tr>\n",
       "    <tr>\n",
       "      <th>4</th>\n",
       "      <td>27182</td>\n",
       "      <td>Pink Cab</td>\n",
       "      <td>1</td>\n",
       "      <td>NaN</td>\n",
       "    </tr>\n",
       "    <tr>\n",
       "      <th>...</th>\n",
       "      <td>...</td>\n",
       "      <td>...</td>\n",
       "      <td>...</td>\n",
       "      <td>...</td>\n",
       "    </tr>\n",
       "    <tr>\n",
       "      <th>72221</th>\n",
       "      <td>41414</td>\n",
       "      <td>Yellow Cab</td>\n",
       "      <td>1</td>\n",
       "      <td>NaN</td>\n",
       "    </tr>\n",
       "    <tr>\n",
       "      <th>72222</th>\n",
       "      <td>41677</td>\n",
       "      <td>Yellow Cab</td>\n",
       "      <td>1</td>\n",
       "      <td>NaN</td>\n",
       "    </tr>\n",
       "    <tr>\n",
       "      <th>72223</th>\n",
       "      <td>41155</td>\n",
       "      <td>Yellow Cab</td>\n",
       "      <td>1</td>\n",
       "      <td>NaN</td>\n",
       "    </tr>\n",
       "    <tr>\n",
       "      <th>72224</th>\n",
       "      <td>40467</td>\n",
       "      <td>Yellow Cab</td>\n",
       "      <td>1</td>\n",
       "      <td>NaN</td>\n",
       "    </tr>\n",
       "    <tr>\n",
       "      <th>72225</th>\n",
       "      <td>39761</td>\n",
       "      <td>Yellow Cab</td>\n",
       "      <td>1</td>\n",
       "      <td>NaN</td>\n",
       "    </tr>\n",
       "  </tbody>\n",
       "</table>\n",
       "<p>72226 rows × 4 columns</p>\n",
       "</div>"
      ],
      "text/plain": [
       "      Customer_ID     Company  Rides_Count  Rides_catg\n",
       "0           29290    Pink Cab            1         NaN\n",
       "1           27703    Pink Cab            2  2_10 rides\n",
       "2           28712    Pink Cab            1         NaN\n",
       "3           28020    Pink Cab            3  2_10 rides\n",
       "4           27182    Pink Cab            1         NaN\n",
       "...           ...         ...          ...         ...\n",
       "72221       41414  Yellow Cab            1         NaN\n",
       "72222       41677  Yellow Cab            1         NaN\n",
       "72223       41155  Yellow Cab            1         NaN\n",
       "72224       40467  Yellow Cab            1         NaN\n",
       "72225       39761  Yellow Cab            1         NaN\n",
       "\n",
       "[72226 rows x 4 columns]"
      ]
     },
     "execution_count": 72,
     "metadata": {},
     "output_type": "execute_result"
    }
   ],
   "source": [
    "# catg_n=[start, end]\n",
    "bin_1=min_rides+rides_catg_width\n",
    "bin_2= min_rides+(2*rides_catg_width)\n",
    "bin_3= min_rides+(3*rides_catg_width)\n",
    "bin_4= min_rides+(4*rides_catg_width)\n",
    "\n",
    "rides_count['Rides_catg']=pd.cut(rides_count['Rides_Count'], \n",
    "      bins=[min_rides, bin_1, bin_2, bin_3, bin_4, max_rides],\n",
    "      labels=[str(min_rides+1)+'_'+str(bin_1)+' rides', str(bin_1+1)+'_'+str(bin_2)+' rides', \n",
    "              str(bin_2+1)+'_'+str(bin_3)+' rides', str(bin_3+1)+'_'+str(bin_4)+' rides',\n",
    "              str(bin_4+1)+'_'+str(max_rides)+' rides']\n",
    "      )\n",
    "\n",
    "rides_count"
   ]
  },
  {
   "cell_type": "code",
   "execution_count": 73,
   "id": "5b928c1b",
   "metadata": {
    "scrolled": true
   },
   "outputs": [
    {
     "data": {
      "image/png": "[encoded data removed]",
      "text/plain": [
       "<Figure size 1000x600 with 1 Axes>"
      ]
     },
     "metadata": {},
     "output_type": "display_data"
    }
   ],
   "source": [
    "ax=sns.countplot(data=rides_count, x='Rides_catg', hue=rides_count.Company);\n",
    "\n",
    "for i in ax.containers:\n",
    "    ax.bar_label(i,)\n",
    "\n",
    "# abs_values = rides_count['Rides_catg'].value_counts(ascending=False).values\n",
    "\n",
    "# ax.bar_label(container=ax.containers[0], labels=abs_values)\n",
    "\n",
    "\n",
    "\n",
    "ax.set_title(\"Freaquent Castomer For Each Campany\");"
   ]
  },
  {
   "cell_type": "markdown",
   "id": "023f4bf0",
   "metadata": {},
   "source": [
    "A large number of users used the service once, but it seems that yellow company's users are more likely to repeat their experience."
   ]
  },
  {
   "cell_type": "code",
   "execution_count": null,
   "id": "91145cf8",
   "metadata": {},
   "outputs": [],
   "source": []
  }
 ],
 "metadata": {
  "kernelspec": {
   "display_name": "Python 3 (ipykernel)",
   "language": "python",
   "name": "python3"
  },
  "language_info": {
   "codemirror_mode": {
    "name": "ipython",
    "version": 3
   },
   "file_extension": ".py",
   "mimetype": "text/x-python",
   "name": "python",
   "nbconvert_exporter": "python",
   "pygments_lexer": "ipython3",
   "version": "3.11.5"
  },
  "toc": {
   "base_numbering": 1,
   "nav_menu": {},
   "number_sections": true,
   "sideBar": true,
   "skip_h1_title": false,
   "title_cell": "Table of Contents",
   "title_sidebar": "Contents",
   "toc_cell": false,
   "toc_position": {
    "height": "calc(100% - 180px)",
    "left": "10px",
    "top": "150px",
    "width": "165px"
   },
   "toc_section_display": true,
   "toc_window_display": true
  }
 },
 "nbformat": 4,
 "nbformat_minor": 5
}
